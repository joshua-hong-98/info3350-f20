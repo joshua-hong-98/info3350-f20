{
 "cells": [
  {
   "cell_type": "markdown",
   "metadata": {},
   "source": [
    "# Problem set 3: Sentiment (solution)\n",
    "\n",
    "## Description\n",
    "\n",
    "The goal of this problem set is to compare the sentiments associated with male and female characters in a small corpus of 41 novels. \n",
    "\n",
    "This task has a bit in common with Erin Davis's work on the adjectives and body parts associated with male and female characters, though our task is significantly less complex (because we are not doing dependency parsing in order to associate specific words with individual character references).\n",
    "\n",
    "Here's the approach you should implement:\n",
    "\n",
    "1. For each text in the corpus ...\n",
    "1. Break the text into sentences and tokenize each sentence.\n",
    "1. Assign a subject gender to each sentence by counting occurrences of gendered words (\"he\", \"she\", etc.). Refine these lists as you see fit. \n",
    "  1. Optional: devise ways to treat gender as a non-binary variable.\n",
    "1. Assign sentiment scores to each sentence using the 10 sentiment types included in the NRC EmoLex lexicon (\"anticipation\", \"disgust\", \"trust\", etc.).\n",
    "1. Calculate the mean sentiment score(s) for the sentences in the text that you identified as male-centric and female-centric. \n",
    "  1. Optional: If you chose to work with non-binary gender assignments, devise an appropriate way to group gender-similar sentences using your assignments. \n",
    "1. Compare your grouped sentiment scores among the novels in the corpus. \n",
    "1. Write roughly one paragraph of analysis and conclusions.\n",
    "\n",
    "Let's get to it. \n",
    "\n",
    "The next block of code contains some variables and import statements. **Make sure your variables point to the correct files on your system.** Get these files from the course GitHub site."
   ]
  },
  {
   "cell_type": "code",
   "execution_count": 1,
   "metadata": {},
   "outputs": [],
   "source": [
    "from   collections import defaultdict\n",
    "from   glob import glob\n",
    "from   nltk import word_tokenize, sent_tokenize\n",
    "import numpy as np\n",
    "import os\n",
    "import string\n",
    "\n",
    "# Files and locations\n",
    "novel_files = glob(os.path.join('..', '..', 'data', 'texts', '*.txt'))\n",
    "emolex_file = os.path.join('..', '..', 'data', 'lexicons', 'emolex.txt')\n",
    "\n",
    "# Female and male wordlist from Neal Caron via Bengfort et al.\n",
    "# See bit.ly/2GJBGfV\n",
    "male_words = set([\n",
    "    'guy','spokesman','chairman',\"men's\",'men','him',\"he's\",'his',\n",
    "    'boy','boyfriend','boyfriends','boys','brother','brothers','dad',\n",
    "    'dads','dude','father','fathers','fiance','gentleman','gentlemen',\n",
    "    'god','grandfather','grandpa','grandson','groom','he','himself',\n",
    "    'husband','husbands','king','male','man','mr','nephew','nephews',\n",
    "    'priest','prince','son','sons','uncle','uncles','waiter','widower',\n",
    "    'widowers'\n",
    "])\n",
    "\n",
    "female_words = set([\n",
    "    'heroine','spokeswoman','chairwoman',\"women's\",'actress','women',\n",
    "    \"she's\",'her','aunt','aunts','bride','daughter','daughters','female',\n",
    "    'fiancee','girl','girlfriend','girlfriends','girls','goddess',\n",
    "    'granddaughter','grandma','grandmother','herself','ladies','lady',\n",
    "    'lady','mom','moms','mother','mothers','mrs','ms','niece','nieces',\n",
    "    'priestess','princess','queens','she','sister','sisters','waitress',\n",
    "    'widow','widows','wife','wives','woman'\n",
    "])\n",
    "\n",
    "dev_text = '''\\\n",
    "    He was the father of modern gardening. \n",
    "    She is the mother of computer science. \n",
    "    They are both excellent at their jobs.\n",
    "    Jane is generally happy with her work.\n",
    "    Jonathan had a bad day, but he's fine.\n",
    "    He and she are the parents of a girl.'''"
   ]
  },
  {
   "cell_type": "markdown",
   "metadata": {},
   "source": [
    "## Tokenize and preprocess text (10 points)\n",
    "\n",
    "**Write a function, `tokenize_text`, that takes as input a text string and returns a list sentences, each of which contains a list of tokens.** We'll use this function to tokenize each novel.\n",
    "\n",
    "Your tokenized text should be all lowercase. You may remove punctuation and stopwords, but be careful not to remove any of the gender-indicative pronouns that are included in the `male_words` and `female_words` lists above. \n",
    "\n",
    "**Run your `tokenize_text` function on the `dev_text` string and print the result.**"
   ]
  },
  {
   "cell_type": "code",
   "execution_count": 2,
   "metadata": {},
   "outputs": [
    {
     "name": "stdout",
     "output_type": "stream",
     "text": [
      "Includes stopwords:\n"
     ]
    },
    {
     "data": {
      "text/plain": [
       "[['he', 'was', 'the', 'father', 'of', 'modern', 'gardening', '.'],\n",
       " ['she', 'is', 'the', 'mother', 'of', 'computer', 'science', '.'],\n",
       " ['they', 'are', 'both', 'excellent', 'at', 'their', 'jobs', '.'],\n",
       " ['jane', 'is', 'generally', 'happy', 'with', 'her', 'work', '.'],\n",
       " ['jonathan', 'had', 'a', 'bad', 'day', ',', 'but', 'he', \"'s\", 'fine', '.'],\n",
       " ['he', 'and', 'she', 'are', 'the', 'parents', 'of', 'a', 'girl', '.']]"
      ]
     },
     "metadata": {},
     "output_type": "display_data"
    },
    {
     "name": "stdout",
     "output_type": "stream",
     "text": [
      "\n",
      "Stopwords removed:\n"
     ]
    },
    {
     "data": {
      "text/plain": [
       "[['he', 'father', 'modern', 'gardening'],\n",
       " ['she', 'mother', 'computer', 'science'],\n",
       " ['they', 'both', 'excellent', 'their', 'jobs'],\n",
       " ['jane', 'generally', 'happy', 'her', 'work'],\n",
       " ['jonathan', 'bad', 'day', 'he', 'fine'],\n",
       " ['he', 'she', 'parents', 'girl']]"
      ]
     },
     "metadata": {},
     "output_type": "display_data"
    }
   ],
   "source": [
    "def tokenize_text(text, stopwords=None):\n",
    "    '''\n",
    "    Takes a string.\n",
    "    Returns a list of tokenized sentences.\n",
    "    '''\n",
    "    tokenized_text = []\n",
    "    for sent in sent_tokenize(text):\n",
    "        tokens = word_tokenize(sent.lower())\n",
    "        if stopwords != None:\n",
    "            tokens = [token for token in tokens if token not in stopwords]\n",
    "        tokenized_text.append(tokens)\n",
    "    return tokenized_text\n",
    "\n",
    "# Print results with stopwords left in\n",
    "print(\"Includes stopwords:\")\n",
    "display(tokenize_text(dev_text))\n",
    "\n",
    "# Build stopword list with punctuation\n",
    "stopwords = set(['and','but','am','is','are','was','were','be','being','been','the','a','an','of',\n",
    "                'on','under','above','out','in','at','with','have','has','had', \"'s\"])\n",
    "stopwords = stopwords.union(set(string.punctuation))\n",
    "\n",
    "# Print results after stopword removal\n",
    "print(\"\\nStopwords removed:\")\n",
    "display(tokenize_text(dev_text, stopwords=stopwords))"
   ]
  },
  {
   "cell_type": "markdown",
   "metadata": {},
   "source": [
    "## Assign gender scores (10 points)\n",
    "\n",
    "**Write a function, `gender_score`, that takes as input a list of word-level tokens and returns a gender score. Run this function over the tokenized sentences in `dev_text` and print the resulting scores.**\n",
    "\n",
    "The list of input tokens represents a single, tokenized sentence.\n",
    "\n",
    "The gender score may be either binary for female/male (according to the prepoderance of male or female terms in the sentence, `1 = female`, `0 = male`) or a floating-point number between 0 (male) and 1 (female) that represents the proportion of female and male words from the lists above. In either case, think about how you want to represent sentences that have no gender terms.\n",
    "\n",
    "*\\[Note that the function signature supplied to the students used strongly suggested that they could or should use global variables (variables referenced from inside the function that are not passed into the function). This is bad practice. I've corrected it below and will post about it on Campuswire.\\]*"
   ]
  },
  {
   "cell_type": "code",
   "execution_count": 3,
   "metadata": {},
   "outputs": [],
   "source": [
    "def gender_score(token_list, male_words, female_words, binary=True):\n",
    "    '''\n",
    "    Takes a list of tokens and lists of male- and female-indicating words.\n",
    "    Returns a gender score between 0 and 1, or None.\n",
    "    '''\n",
    "    male = 0\n",
    "    female = 0\n",
    "    for token in token_list:\n",
    "        if token in male_words:\n",
    "            male += 1\n",
    "        elif token in female_words:\n",
    "            female += 1\n",
    "    if male == female == 0:\n",
    "        return None\n",
    "    elif binary:\n",
    "        if male > female:\n",
    "            return 0\n",
    "        elif male < female:\n",
    "            return 1\n",
    "        else:\n",
    "            return None # Is \"None\" the right call in this case?\n",
    "    else:\n",
    "        return(female / (female + male))"
   ]
  },
  {
   "cell_type": "code",
   "execution_count": 4,
   "metadata": {},
   "outputs": [
    {
     "name": "stdout",
     "output_type": "stream",
     "text": [
      "Sent: 0 \tBinary gender: 0 \tNonbinary gender: 0.0\n",
      "Sent: 1 \tBinary gender: 1 \tNonbinary gender: 1.0\n",
      "Sent: 2 \tBinary gender: None \tNonbinary gender: None\n",
      "Sent: 3 \tBinary gender: 1 \tNonbinary gender: 1.0\n",
      "Sent: 4 \tBinary gender: 0 \tNonbinary gender: 0.0\n",
      "Sent: 5 \tBinary gender: 1 \tNonbinary gender: 0.6666666666666666\n"
     ]
    }
   ],
   "source": [
    "# Run your gender-scoring function on the tokenized dev_text\n",
    "for sent in enumerate(tokenize_text(dev_text)):\n",
    "    print(\"Sent:\", sent[0], \"\\tBinary gender:\", gender_score(sent[1], male_words, female_words), \\\n",
    "          \"\\tNonbinary gender:\", gender_score(sent[1], male_words, female_words, binary=False))"
   ]
  },
  {
   "cell_type": "markdown",
   "metadata": {},
   "source": [
    "## Calculate sentence-level sentiment scores (20 points)\n",
    "\n",
    "**Write a function, `sentiment_score`, that takes as input a list of word-level tokens and an EmoLex lexicon and returns a dictionary of length-normalized EmoLex sentiment scores for every available emotion type. Run this function over the tokenized sentences in `dev_text` and print the resulting sentence-level scores.**\n",
    "\n",
    "The list of tokens used as input data represents a single, tokenized sentence.\n",
    "By \"length-normalized,\" I mean that each sentence-level score should be divided by the number of tokens in the sentence.\n",
    "\n",
    "Your output dictionary should look like this (sample output on the fourth `dev_text` sentence):\n",
    "\n",
    "```\n",
    "{\n",
    "  'anger': 0.0, \n",
    "  'anticipation': 0.125, \n",
    "  'disgust': 0.0, \n",
    "  'fear': 0.0, \n",
    "  'joy': 0.125, \n",
    "  'negative': 0.0, \n",
    "  'positive': 0.125, \n",
    "  'sadness': 0.0, \n",
    "  'surprise': 0.0, \n",
    "  'trust': 0.125\n",
    "}\n",
    "```"
   ]
  },
  {
   "cell_type": "code",
   "execution_count": 5,
   "metadata": {},
   "outputs": [],
   "source": [
    "# A freebie helper function to read and parse the emolex file\n",
    "def read_emolex(filepath=None):\n",
    "    '''\n",
    "    Takes a file path to the emolex lexicon file.\n",
    "    Returns a dictionary of emolex sentiment values.\n",
    "    '''\n",
    "    if filepath==None: # Try to find the emolex file\n",
    "        filepath = os.path.join('..','..','data','lexicons','emolex.txt')\n",
    "        if os.path.isfile(filepath):\n",
    "            pass\n",
    "        elif os.path.isfile('emolex.txt'):\n",
    "            filepath = 'emolex.txt'\n",
    "        else:\n",
    "            raise FileNotFoundError('No EmoLex file found')\n",
    "    emolex = defaultdict(dict) # Like Counter(), defaultdict eases dictionary creation\n",
    "    with open(filepath, 'r') as f:\n",
    "    # emolex file format is: word emotion value\n",
    "        for line in f:\n",
    "            word, emotion, value = line.strip().split()\n",
    "            emolex[word][emotion] = int(value)\n",
    "    return emolex\n",
    "\n",
    "# Get EmoLex data. Make sure you set the right file path above.\n",
    "emolex = read_emolex(emolex_file)"
   ]
  },
  {
   "cell_type": "code",
   "execution_count": 6,
   "metadata": {},
   "outputs": [],
   "source": [
    "# Sentiment scoring function\n",
    "def sentiment_score(token_list, lexicon=None):\n",
    "    '''\n",
    "    Takes a tokenized sentence.\n",
    "    Returns a dictionary of length-normalized EmoLex sentiment scores.\n",
    "    '''\n",
    "    if lexicon==None: # Get lexicon if not passed in\n",
    "        lexicon = read_emolex()\n",
    "    scores = defaultdict(int) # Store data for output\n",
    "    token_count = 0 # Keep track of sentence length\n",
    "    for token in token_list: # Iterate over tokens\n",
    "        token_count += 1 # Increment token count\n",
    "        for emotion in lexicon[token]: # Iterate over emotion types\n",
    "            scores[emotion] += int(lexicon[token][emotion]) # Increment counts per emotion type\n",
    "    if token_count > 0: # Do we have tokens?\n",
    "        for emotion in scores:\n",
    "            scores[emotion] /= token_count # Length normalize\n",
    "    return scores"
   ]
  },
  {
   "cell_type": "code",
   "execution_count": 7,
   "metadata": {},
   "outputs": [
    {
     "name": "stdout",
     "output_type": "stream",
     "text": [
      "Sentence: ['he', 'was', 'the', 'father', 'of', 'modern', 'gardening', '.']\n",
      "  anger:\t0.0\n",
      "  anticipation:\t0.0\n",
      "  disgust:\t0.0\n",
      "  fear:\t0.0\n",
      "  joy:\t0.0\n",
      "  negative:\t0.0\n",
      "  positive:\t0.0\n",
      "  sadness:\t0.0\n",
      "  surprise:\t0.0\n",
      "  trust:\t0.125\n",
      "\n",
      "Sentence: ['she', 'is', 'the', 'mother', 'of', 'computer', 'science', '.']\n",
      "  anger:\t0.0\n",
      "  anticipation:\t0.125\n",
      "  disgust:\t0.0\n",
      "  fear:\t0.0\n",
      "  joy:\t0.125\n",
      "  negative:\t0.125\n",
      "  positive:\t0.125\n",
      "  sadness:\t0.125\n",
      "  surprise:\t0.0\n",
      "  trust:\t0.125\n",
      "\n",
      "Sentence: ['they', 'are', 'both', 'excellent', 'at', 'their', 'jobs', '.']\n",
      "  anger:\t0.0\n",
      "  anticipation:\t0.0\n",
      "  disgust:\t0.0\n",
      "  fear:\t0.0\n",
      "  joy:\t0.125\n",
      "  negative:\t0.0\n",
      "  positive:\t0.125\n",
      "  sadness:\t0.0\n",
      "  surprise:\t0.0\n",
      "  trust:\t0.125\n",
      "\n",
      "Sentence: ['jane', 'is', 'generally', 'happy', 'with', 'her', 'work', '.']\n",
      "  anger:\t0.0\n",
      "  anticipation:\t0.125\n",
      "  disgust:\t0.0\n",
      "  fear:\t0.0\n",
      "  joy:\t0.125\n",
      "  negative:\t0.0\n",
      "  positive:\t0.125\n",
      "  sadness:\t0.0\n",
      "  surprise:\t0.0\n",
      "  trust:\t0.125\n",
      "\n",
      "Sentence: ['jonathan', 'had', 'a', 'bad', 'day', ',', 'but', 'he', \"'s\", 'fine', '.']\n",
      "  anger:\t0.09090909090909091\n",
      "  anticipation:\t0.0\n",
      "  disgust:\t0.09090909090909091\n",
      "  fear:\t0.09090909090909091\n",
      "  joy:\t0.0\n",
      "  negative:\t0.09090909090909091\n",
      "  positive:\t0.0\n",
      "  sadness:\t0.09090909090909091\n",
      "  surprise:\t0.0\n",
      "  trust:\t0.0\n",
      "\n",
      "Sentence: ['he', 'and', 'she', 'are', 'the', 'parents', 'of', 'a', 'girl', '.']\n",
      "  anger:\t0.0\n",
      "  anticipation:\t0.0\n",
      "  disgust:\t0.0\n",
      "  fear:\t0.0\n",
      "  joy:\t0.0\n",
      "  negative:\t0.0\n",
      "  positive:\t0.0\n",
      "  sadness:\t0.0\n",
      "  surprise:\t0.0\n",
      "  trust:\t0.0\n",
      "\n"
     ]
    }
   ],
   "source": [
    "# Run scoring function on dev text and print results\n",
    "tokenized_text = tokenize_text(dev_text)\n",
    "for i, sent in enumerate(tokenized_text):\n",
    "    print(\"Sentence:\", tokenized_text[i])\n",
    "    scores = sentiment_score(sent, lexicon=emolex)\n",
    "    for emotion in scores:\n",
    "        print(f'  {emotion}:\\t{scores[emotion]}')\n",
    "    print()"
   ]
  },
  {
   "cell_type": "markdown",
   "metadata": {},
   "source": [
    "## Compare emotions in female- and male-tagged sentences (20 points)\n",
    "\n",
    "**Write a function, `gendered_sentiment`, that uses `gender_score` and `sentiment_score` to  calulate the mean sentiment scores for each EmoLex emotion type in female- and male-tagged sentences in a tokenized input text. Then print the output of this function when run on tokenized `dev_text`.**\n",
    "\n",
    "We've done this somewhat ineffeciently, since each of those functions iterates over all tokens (so we make two passes over the text). But this inefficiency made it easier to break up the task into its constituent parts.\n",
    "\n",
    "Your function should take as input a tokenized text and should return a dictionary with keys for each emotion type, subkeys `male` and `female`, and values representing the mean score for that emotion in sentences corresponding to the indicated gender. For example (invented, not real data):\n",
    "\n",
    "```\n",
    "{\n",
    "  'anger':  {\n",
    "    'male' : 0.02,\n",
    "    'female' : 0.03\n",
    "  },\n",
    "  ...\n",
    "}\n",
    "```\n",
    "\n",
    "If you chose to operationalize gender as a nonbinary value, you'll need to decide how to treat values other than 0 and 1. You could split at 0.5 (how do you want to treat gender scores equal to 0.5?) or discard mid-level scores (between 0.3 and 0.7, say), or some other approach. And, no matter how you calculated your gender score, you'll need to handle genderless sentences appropriately (by ignoring them)."
   ]
  },
  {
   "cell_type": "code",
   "execution_count": 8,
   "metadata": {},
   "outputs": [
    {
     "data": {
      "text/plain": [
       "defaultdict(<function __main__.gendered_sentiment.<locals>.<lambda>()>,\n",
       "            {'anger': defaultdict(list,\n",
       "                         {'male': 0.045454545454545456, 'female': 0.0}),\n",
       "             'anticipation': defaultdict(list,\n",
       "                         {'male': 0.0, 'female': 0.08333333333333333}),\n",
       "             'disgust': defaultdict(list,\n",
       "                         {'male': 0.045454545454545456, 'female': 0.0}),\n",
       "             'fear': defaultdict(list,\n",
       "                         {'male': 0.045454545454545456, 'female': 0.0}),\n",
       "             'joy': defaultdict(list,\n",
       "                         {'male': 0.0, 'female': 0.08333333333333333}),\n",
       "             'negative': defaultdict(list,\n",
       "                         {'male': 0.045454545454545456,\n",
       "                          'female': 0.041666666666666664}),\n",
       "             'positive': defaultdict(list,\n",
       "                         {'male': 0.0, 'female': 0.08333333333333333}),\n",
       "             'sadness': defaultdict(list,\n",
       "                         {'male': 0.045454545454545456,\n",
       "                          'female': 0.041666666666666664}),\n",
       "             'surprise': defaultdict(list, {'male': 0.0, 'female': 0.0}),\n",
       "             'trust': defaultdict(list,\n",
       "                         {'male': 0.0625, 'female': 0.08333333333333333})})"
      ]
     },
     "metadata": {},
     "output_type": "display_data"
    }
   ],
   "source": [
    "# Sentiment comparison by gender\n",
    "def gendered_sentiment(tokenized_text, male_words, female_words, lexicon=None, binary=True, female_level=0.7, male_level=None):\n",
    "    gender_scores = defaultdict(lambda: defaultdict(list))\n",
    "    if male_level == None:\n",
    "        male_level = 1-female_level\n",
    "    for sentence in tokenized_text:\n",
    "        emotions = sentiment_score(sentence, lexicon=lexicon)\n",
    "        if len(emotions) > 0:\n",
    "            gender = gender_score(sentence, male_words, female_words, binary=binary)\n",
    "            if gender != None:\n",
    "                if gender > female_level:\n",
    "                    for emotion in emotions:\n",
    "                        gender_scores[emotion]['female'].append(emotions[emotion])\n",
    "                elif gender < male_level:\n",
    "                    for emotion in emotions:\n",
    "                        gender_scores[emotion]['male'].append(emotions[emotion])\n",
    "    # Calculate means\n",
    "    for emotion in gender_scores:\n",
    "        for gender in gender_scores[emotion]:\n",
    "            gender_scores[emotion][gender] = np.mean(gender_scores[emotion][gender])\n",
    "    return gender_scores\n",
    "\n",
    "scores = gendered_sentiment(tokenize_text(dev_text), male_words, female_words, lexicon=emolex)\n",
    "display(scores)"
   ]
  },
  {
   "cell_type": "markdown",
   "metadata": {},
   "source": [
    "## Visualize your output (5 points)\n",
    "\n",
    "This one's a freebie, so long as the output of your `gendered_sentiment` function meets the problem spec. \n",
    "\n",
    "**Use the `visualize_emotion_scores` function below to produce a plot of your comparative gender scores in `dev_text` for all 10 emotion categories.**"
   ]
  },
  {
   "cell_type": "code",
   "execution_count": 9,
   "metadata": {},
   "outputs": [],
   "source": [
    "%matplotlib inline\n",
    "def visualize_emotion_scores(scores):\n",
    "    import pandas as pd\n",
    "    import seaborn as sns\n",
    "    df = pd.DataFrame.from_dict(scores)\n",
    "    values = df.columns\n",
    "    df = df.reset_index().melt(id_vars='index', value_vars=values, var_name='emotion').rename(columns={'index':'gender'})\n",
    "    sns.set_context('poster')\n",
    "    g = sns.catplot(x='gender', y='value', col='emotion', data=df, kind='bar', col_wrap=4)\n",
    "    return g"
   ]
  },
  {
   "cell_type": "code",
   "execution_count": 10,
   "metadata": {},
   "outputs": [
    {
     "data": {
      "image/png": "[encoded data removed]",
      "text/plain": [
       "<Figure size 1440x1080 with 10 Axes>"
      ]
     },
     "metadata": {
      "needs_background": "light"
     },
     "output_type": "display_data"
    }
   ],
   "source": [
    "g = visualize_emotion_scores(scores)"
   ]
  },
  {
   "cell_type": "markdown",
   "metadata": {},
   "source": [
    "## Calculate scores in a novel (5 points)\n",
    "\n",
    "**Use the code you've written to calculate and plot the gendered emotion scores in *Madame Bovary*.**\n",
    "\n",
    "Your output should include both the mean scores printed to standard output (here in the notebook) and a visualization created using the `visualize_emotion_scores` function.\n",
    "\n",
    "Incidentally, working with large texts can be slow. But scoring a novel as we've done here shouldn't take more than a few seconds. If you're waiting minutes for your scoring to finish, something is wrong."
   ]
  },
  {
   "cell_type": "code",
   "execution_count": 11,
   "metadata": {},
   "outputs": [
    {
     "data": {
      "text/plain": [
       "defaultdict(<function __main__.gendered_sentiment.<locals>.<lambda>()>,\n",
       "            {'anger': defaultdict(list,\n",
       "                         {'male': 0.009110969165590985,\n",
       "                          'female': 0.009904075001100689}),\n",
       "             'anticipation': defaultdict(list,\n",
       "                         {'male': 0.021044930360886772,\n",
       "                          'female': 0.019101205502083374}),\n",
       "             'disgust': defaultdict(list,\n",
       "                         {'male': 0.006921749545910983,\n",
       "                          'female': 0.007427393849079502}),\n",
       "             'fear': defaultdict(list,\n",
       "                         {'male': 0.013768437645135665,\n",
       "                          'female': 0.013621179591955935}),\n",
       "             'joy': defaultdict(list,\n",
       "                         {'male': 0.017196811344275247,\n",
       "                          'female': 0.019453764844735332}),\n",
       "             'negative': defaultdict(list,\n",
       "                         {'male': 0.026183503554395905,\n",
       "                          'female': 0.030222264077391387}),\n",
       "             'positive': defaultdict(list,\n",
       "                         {'male': 0.03749747541918617,\n",
       "                          'female': 0.03580453398559116}),\n",
       "             'sadness': defaultdict(list,\n",
       "                         {'male': 0.013962375293871563,\n",
       "                          'female': 0.017414035972092422}),\n",
       "             'surprise': defaultdict(list,\n",
       "                         {'male': 0.009898009531877248,\n",
       "                          'female': 0.009145786505677421}),\n",
       "             'trust': defaultdict(list,\n",
       "                         {'male': 0.025132227727619732,\n",
       "                          'female': 0.020231613112992076})})"
      ]
     },
     "metadata": {},
     "output_type": "display_data"
    },
    {
     "data": {
      "image/png": "[encoded data removed]",
      "text/plain": [
       "<Figure size 1440x1080 with 10 Axes>"
      ]
     },
     "metadata": {
      "needs_background": "light"
     },
     "output_type": "display_data"
    }
   ],
   "source": [
    "bovary_path = os.path.join('..','..','data','texts','F-Flaubert-Madame_Bovary-1857-M.txt')\n",
    "with open(bovary_path, 'r') as f:\n",
    "    bovary_text = f.read()\n",
    "bovary = tokenize_text(bovary_text)\n",
    "bovary_scores = gendered_sentiment(bovary, male_words, female_words, lexicon=emolex)\n",
    "display(bovary_scores)\n",
    "fig = visualize_emotion_scores(bovary_scores)"
   ]
  },
  {
   "cell_type": "markdown",
   "metadata": {},
   "source": [
    "## Grand finale: Sentiment and gender in a small corpus (20 points)\n",
    "\n",
    "**Do the same thing you just did for one novel, but for all 41 novels in the `data/texts` directory (from GitHub). Calculate the mean sentiment score across the corpus for each emotion and each gender, as well as the standard deviation for each of those means. Display your results in a legible form.**"
   ]
  },
  {
   "cell_type": "code",
   "execution_count": 12,
   "metadata": {},
   "outputs": [
    {
     "name": "stdout",
     "output_type": "stream",
     "text": [
      "CPU times: user 1min 9s, sys: 893 ms, total: 1min 10s\n",
      "Wall time: 1min 14s\n"
     ]
    }
   ],
   "source": [
    "%%time\n",
    "# Score all 41 novels in the corpus\n",
    "# Takes about a minute on my aging laptop\n",
    "\n",
    "corpus_scores = {} # Dictionary to hold results\n",
    "for novel in novel_files: # Iterate over novels\n",
    "    with open(novel, 'r') as f:\n",
    "        novel_text = f.read() # Read a novel as a string\n",
    "    novel_label = os.path.split(novel)[1].rstrip('.txt') # Get convenience label for novel\n",
    "    tokens = tokenize_text(novel_text) # Tokenize\n",
    "    scores = gendered_sentiment(tokens, male_words, female_words, lexicon=emolex) # Score\n",
    "    corpus_scores[novel_label] = scores # Record scores"
   ]
  },
  {
   "cell_type": "code",
   "execution_count": 13,
   "metadata": {},
   "outputs": [],
   "source": [
    "# Aggregate scores for all novels by emotion type and gender\n",
    "summary_scores = defaultdict(lambda: defaultdict(list)) # Data structure\n",
    "for novel in corpus_scores.keys(): # Iterate over keys\n",
    "    for emotion in corpus_scores[novel]: # Iterate over emotion types\n",
    "        for gender in corpus_scores[novel][emotion]: # Iterate over genders\n",
    "            summary_scores[emotion][gender].append(corpus_scores[novel][emotion][gender]) # Record scores"
   ]
  },
  {
   "cell_type": "code",
   "execution_count": 14,
   "metadata": {},
   "outputs": [
    {
     "name": "stdout",
     "output_type": "stream",
     "text": [
      "anger\n",
      "  male mean:\t0.0121\tstd: 0.0037\n",
      "  female mean:\t0.011\tstd: 0.0033\n",
      "\n",
      "anticipation\n",
      "  male mean:\t0.0219\tstd: 0.0032\n",
      "  female mean:\t0.0239\tstd: 0.0045\n",
      "\n",
      "disgust\n",
      "  male mean:\t0.0097\tstd: 0.0031\n",
      "  female mean:\t0.0083\tstd: 0.0028\n",
      "\n",
      "fear\n",
      "  male mean:\t0.0167\tstd: 0.0051\n",
      "  female mean:\t0.0146\tstd: 0.0041\n",
      "\n",
      "joy\n",
      "  male mean:\t0.0194\tstd: 0.0037\n",
      "  female mean:\t0.023\tstd: 0.0058\n",
      "\n",
      "negative\n",
      "  male mean:\t0.0303\tstd: 0.0071\n",
      "  female mean:\t0.0317\tstd: 0.0072\n",
      "\n",
      "positive\n",
      "  male mean:\t0.0433\tstd: 0.0069\n",
      "  female mean:\t0.0448\tstd: 0.0089\n",
      "\n",
      "sadness\n",
      "  male mean:\t0.0146\tstd: 0.0035\n",
      "  female mean:\t0.0187\tstd: 0.005\n",
      "\n",
      "surprise\n",
      "  male mean:\t0.0112\tstd: 0.0021\n",
      "  female mean:\t0.011\tstd: 0.0013\n",
      "\n",
      "trust\n",
      "  male mean:\t0.0273\tstd: 0.0051\n",
      "  female mean:\t0.0258\tstd: 0.0054\n",
      "\n"
     ]
    }
   ],
   "source": [
    "# Calculate corpus-wide means and standard deviations\n",
    "for emotion in summary_scores:\n",
    "    print(emotion)\n",
    "    for gender in summary_scores[emotion]:\n",
    "        print(f'  {gender} mean:\\t{round(np.mean(summary_scores[emotion][gender]),4)}\\tstd: {round(np.std(summary_scores[emotion][gender]),4)}')\n",
    "    print()"
   ]
  },
  {
   "cell_type": "markdown",
   "metadata": {},
   "source": [
    "## Discuss your results (10 points)\n",
    "\n",
    "Write a short paragraph in which you summarize your findings and suggest ways in which the experiment might be improved."
   ]
  },
  {
   "cell_type": "markdown",
   "metadata": {},
   "source": [
    "Your discussion in this MarkDown cell ..."
   ]
  },
  {
   "cell_type": "markdown",
   "metadata": {},
   "source": [
    "## Optional bonus (10 points)\n",
    "\n",
    "Extend your analysis to different author genders, nationalities, or time periods. \n",
    "\n",
    "The files in the corpus are informatively named:\n",
    "\n",
    "```\n",
    "Nation-Author-Title-Year-Gender.txt\n",
    "```\n",
    "\n",
    "Use the convenience function below to parse the corpus file paths into a dictionary of metadata, then segment the corpus-wide emotion scores into one or more dimensions by author gender, nation of origin, or era of publication. Do you notice any interesting trends in this segmented data?\n",
    "\n",
    "**NB.** We're obviously not imposing much statistical rigor here, and we're working with a very small corpus. Treat your results as a toy example!"
   ]
  },
  {
   "cell_type": "code",
   "execution_count": 15,
   "metadata": {},
   "outputs": [],
   "source": [
    "# Convenience function to parse file paths into metadata\n",
    "def parse_filename(path):\n",
    "    '''\n",
    "    Takes a formatted file path string.\n",
    "    Returns a dictionary of metadata about that file.\n",
    "    '''\n",
    "    name = os.path.split(path)[1]\n",
    "    metadata = {} # Dict to hold filename:[categories] mappings\n",
    "    parsed = name.rstrip('.txt').split('-') # strip extension and split on hyphens\n",
    "    metadata['nation'] = parsed[0]\n",
    "    metadata['author'] = parsed[1]\n",
    "    metadata['title']  = parsed[2]\n",
    "    metadata['year']   = parsed[3]\n",
    "    metadata['gender'] = parsed[4]\n",
    "    return metadata"
   ]
  }
 ],
 "metadata": {
  "kernelspec": {
   "display_name": "Python 3",
   "language": "python",
   "name": "python3"
  },
  "language_info": {
   "codemirror_mode": {
    "name": "ipython",
    "version": 3
   },
   "file_extension": ".py",
   "mimetype": "text/x-python",
   "name": "python",
   "nbconvert_exporter": "python",
   "pygments_lexer": "ipython3",
   "version": "3.8.3"
  }
 },
 "nbformat": 4,
 "nbformat_minor": 4
}
