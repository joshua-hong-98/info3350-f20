{
 "cells": [
  {
   "cell_type": "markdown",
   "metadata": {},
   "source": [
    "# Problem set 2: Counting words\n",
    "\n",
    "## Description\n",
    "\n",
    "The goal of this problem set is to create the world's least visually-sophisticated word count graphic.\n",
    "\n",
    "Along the way, you'll experiment with stopword removal, case folding, and other processing steps.\n",
    "\n",
    "## Count words, naïvely\n",
    "\n",
    "We'll work with *Moby-Dick*, as we did in class. \n",
    "\n",
    "**Read the text of *Moby-Dick* from a file (it's on the class GitHub site, in the `data/texts` directory), tokenize it with NLTK's `word_tokenize` function, and count the resulting tokens in a `Counter` object.**\n",
    "\n",
    "You can refer to the lecture notebook from Monday, September 7, to borrow code to do all of this. But you must get that code working in the cell below. This cell should produce a `Counter` object that holds the token counts from the novel."
   ]
  },
  {
   "cell_type": "code",
   "execution_count": 2,
   "metadata": {},
   "outputs": [
    {
     "name": "stdout",
     "output_type": "stream",
     "text": [
      "../../data/texts/A-Melville-Moby_Dick-1851-M.txt\n"
     ]
    }
   ],
   "source": [
    "# Use standard Python file commands to open Moby-Dick,\n",
    "#  then count the words in that file.\n",
    "import os \n",
    "from collections import Counter\n",
    "from nltk import word_tokenize\n",
    "moby_name= 'A-Melville-Moby_Dick-1851-M.txt'\n",
    "moby_path= os.path.join('..','..','data','texts', moby_name)\n",
    "print(moby_path)"
   ]
  },
  {
   "cell_type": "code",
   "execution_count": 3,
   "metadata": {},
   "outputs": [
    {
     "name": "stderr",
     "output_type": "stream",
     "text": [
      "[nltk_data] Downloading package punkt to\n",
      "[nltk_data]     /Users/joshuahong/nltk_data...\n",
      "[nltk_data]   Package punkt is already up-to-date!\n"
     ]
    }
   ],
   "source": [
    "import nltk\n",
    "nltk.download('punkt')\n",
    "\n",
    "moby_simple_c= Counter()\n",
    "with open(moby_path, 'r') as f: \n",
    "    for line in f:\n",
    "        tokens = word_tokenize(line.strip())\n",
    "        for token in tokens: \n",
    "            moby_simple_c[token] += 1"
   ]
  },
  {
   "cell_type": "code",
   "execution_count": 4,
   "metadata": {},
   "outputs": [
    {
     "data": {
      "text/plain": [
       "[(',', 19204), ('the', 13715), ('.', 7432), ('of', 6513), ('and', 6010)]"
      ]
     },
     "execution_count": 4,
     "metadata": {},
     "output_type": "execute_result"
    }
   ],
   "source": [
    "moby_simple_c.most_common(5) "
   ]
  },
  {
   "cell_type": "markdown",
   "metadata": {},
   "source": [
    "**Print the total number of words (hint: use `Counter`'s `.values()` method, along with the `sum` function) in your text, as well as the 20 most frequently occurring terms and their counts.**\n",
    "\n",
    "We'll do this a lot, so wrap it up as a function that takes as input a `Counter` object and an optional number of top terms to print:\n",
    "\n",
    "```\n",
    "def word_stats(data, n=20):\n",
    "```\n",
    "\n",
    "The output of your fuction should look like this:\n",
    "\n",
    "```\n",
    "Total words in the text: 255380\n",
    "\n",
    "Top 20 words by frequency:\n",
    ",      19204\n",
    "the    13715\n",
    ".      7432\n",
    "\n",
    "[and so on ...]\n",
    "```"
   ]
  },
  {
   "cell_type": "code",
   "execution_count": 5,
   "metadata": {},
   "outputs": [],
   "source": [
    "# Your word_stats function here\n",
    "def word_stats(data, n=20):\n",
    "    '''\n",
    "    Print total wordcount and n top terms.\n",
    "    Takes a Counter object and a number of terms to print.\n",
    "    Returns None.\n",
    "    '''\n",
    "    total = sum(data.values())\n",
    "    print('Total Tokens:', total)\n",
    "    \n",
    "    print('\\nMost common tokens:')\n",
    "    for word in data.most_common(n):\n",
    "        print(word[0], '\\t', word[1])\n",
    "    return None"
   ]
  },
  {
   "cell_type": "code",
   "execution_count": 6,
   "metadata": {},
   "outputs": [
    {
     "name": "stdout",
     "output_type": "stream",
     "text": [
      "Total Tokens: 255380\n",
      "\n",
      "Most common tokens:\n",
      ", \t 19204\n",
      "the \t 13715\n",
      ". \t 7432\n",
      "of \t 6513\n",
      "and \t 6010\n",
      "a \t 4546\n",
      "to \t 4515\n",
      "; \t 4173\n",
      "in \t 3909\n",
      "that \t 2981\n",
      "his \t 2459\n",
      "it \t 2205\n",
      "I \t 2121\n",
      "! \t 1767\n",
      "'s \t 1731\n",
      "is \t 1722\n",
      "-- \t 1714\n",
      "he \t 1660\n",
      "with \t 1659\n",
      "was \t 1640\n"
     ]
    }
   ],
   "source": [
    "# Call word_stats on your data\n",
    "word_stats(moby_simple_c)"
   ]
  },
  {
   "cell_type": "markdown",
   "metadata": {},
   "source": [
    "## Case folding and stopwords\n",
    "\n",
    "As you can see, the top words that we counted aren't super informative. That said, list two things that you **can** say about the text with reasonable confidence on the basis of our results above:"
   ]
  },
  {
   "cell_type": "markdown",
   "metadata": {},
   "source": [
    "**Two things you *can* tell about *Moby-Dick* from the naïve word counts:**\n",
    "\n",
    "1. Moby Dick's most used *words* are stop words\n",
    "2. Punctuation is counted to be the most used token"
   ]
  },
  {
   "cell_type": "markdown",
   "metadata": {},
   "source": [
    "If we want our word list to be informative, we need to find a way to ignore high-frequency, low-information words. We can do this either by not counting them in the first place, or by excluding them from our reporting after we've collected them. Both methods have advantages and drawbacks. The one you pursue is up to you.\n",
    "\n",
    "**Modify the original code to ignore token case (e.g., 'The' and 'the' are both counted as occurrences of the same token; note the `.lower()` method for strings) and to remove the English-language stopwords defined by NLTK (`from nltk.corpus import stopwords`). Then display the total token count and top-20 tokens.**"
   ]
  },
  {
   "cell_type": "code",
   "execution_count": 7,
   "metadata": {},
   "outputs": [
    {
     "name": "stderr",
     "output_type": "stream",
     "text": [
      "[nltk_data] Downloading package stopwords to\n",
      "[nltk_data]     /Users/joshuahong/nltk_data...\n",
      "[nltk_data]   Package stopwords is already up-to-date!\n"
     ]
    },
    {
     "name": "stdout",
     "output_type": "stream",
     "text": [
      "Total Tokens: 150080\n",
      "\n",
      "Most common tokens:\n",
      ", \t 19204\n",
      ". \t 7432\n",
      "; \t 4173\n",
      "'s \t 1787\n",
      "! \t 1767\n",
      "-- \t 1714\n",
      "'' \t 1565\n",
      "`` \t 1529\n",
      "whale \t 1096\n",
      "? \t 1004\n",
      "one \t 913\n",
      "like \t 580\n",
      "upon \t 565\n",
      "ahab \t 511\n",
      "man \t 498\n",
      "ship \t 469\n",
      "old \t 443\n",
      "ye \t 439\n",
      "would \t 436\n",
      "sea \t 384\n"
     ]
    }
   ],
   "source": [
    "# Count tokens with case folding and NLTK English stopwords removed\n",
    "\n",
    "nltk.download('stopwords')\n",
    "from nltk.corpus import stopwords\n",
    "\n",
    "stop_words = set(stopwords.words('english')) #set stopwords code off stack overflow\n",
    "\n",
    "moby_simple_c= Counter()\n",
    "with open(moby_path, 'r') as f: \n",
    "    for line in f:\n",
    "        tokens = word_tokenize(line.strip())\n",
    "        for token in tokens: \n",
    "            token = token.lower()\n",
    "            if not token in stop_words:\n",
    "                moby_simple_c[token] += 1\n",
    "\n",
    "word_stats(moby_simple_c)"
   ]
  },
  {
   "cell_type": "markdown",
   "metadata": {},
   "source": [
    "Is this better? Maybe! **Note one advantage of this stopword-removed count, as well as one disadvantage:**"
   ]
  },
  {
   "cell_type": "markdown",
   "metadata": {},
   "source": [
    "**Advantage:**\n",
    "\n",
    "* We are getting more words that aren't stop words and we can see, possibly, the type of book this is without even having to read it. We also get to understand what is really the important tokens to look at. \n",
    "\n",
    "**Disadvantage:**\n",
    "\n",
    "* A disadvantange might be that we are unable to see all of the tokens that should be included and might be leaving out important tokens"
   ]
  },
  {
   "cell_type": "markdown",
   "metadata": {},
   "source": [
    "Let's see if we can further improve/refine our approach to continue narrowing our word list. Our goal is to produce a list that contains *only* interesting words and ranks them by frequency.\n",
    "\n",
    "**List at least two ideas for modifying the stopword list to better approach our goal:**\n",
    "\n",
    "1. Personally, I do not think commas or periods or semicolons tell much of the story, unlike other punctuation, so I would get rid of those. I believe that these punctuations do not give any additional information or context for the story. \n",
    "2. I would also like to see elimination of shortened words, such as 's. I think n't gives more context than 's so, other than n't I would like to see stopwords try to modify its list by better identifying stop words that have been shortened. \n",
    "3. Also just as a side note, I got rid of the '--' because I do not think it really adds anything, but I did keep in the quotation marks and stylized quotation marks since they give context to the reading. "
   ]
  },
  {
   "cell_type": "markdown",
   "metadata": {},
   "source": [
    "**Implement one or more of your ideas to improve the stopword list, then display the output of your new version using `word_stats()`.**"
   ]
  },
  {
   "cell_type": "code",
   "execution_count": 8,
   "metadata": {},
   "outputs": [
    {
     "name": "stdout",
     "output_type": "stream",
     "text": [
      "Total Tokens: 115770\n",
      "\n",
      "Most common tokens:\n",
      "! \t 1767\n",
      "'' \t 1565\n",
      "`` \t 1529\n",
      "whale \t 1096\n",
      "? \t 1004\n",
      "one \t 913\n",
      "like \t 580\n",
      "upon \t 565\n",
      "ahab \t 511\n",
      "man \t 498\n",
      "ship \t 469\n",
      "old \t 443\n",
      "ye \t 439\n",
      "would \t 436\n",
      "sea \t 384\n",
      "though \t 383\n",
      "yet \t 344\n",
      "time \t 326\n",
      "captain \t 325\n",
      "long \t 318\n"
     ]
    }
   ],
   "source": [
    "# Better stopwords in action!\n",
    "\n",
    "lst = [',','.',';','\\'s', '--']\n",
    "for i in lst: \n",
    "    stop_words.add(i)\n",
    "\n",
    "moby_simple_c= Counter()\n",
    "with open(moby_path, 'r') as f: \n",
    "    for line in f:\n",
    "        tokens = word_tokenize(line.strip())\n",
    "        for token in tokens: \n",
    "            token = token.lower()\n",
    "            if not token in stop_words:\n",
    "                moby_simple_c[token] += 1\n",
    "\n",
    "word_stats(moby_simple_c)"
   ]
  },
  {
   "cell_type": "markdown",
   "metadata": {},
   "source": [
    "Refine your stoplist until you're satisfied with it. Make sure your code above displays the final output of your `word_stats` function. Then move on."
   ]
  },
  {
   "cell_type": "markdown",
   "metadata": {},
   "source": [
    "# Visualization \n",
    "\n",
    "Now, make the world's least visually-impressive word count graphic. Your task is to produce a visual representation of your top 10 words that shows the relative frquency of those terms.\n",
    "\n",
    "The simplest acceptable version of this visualization is a bar chart. **Complete the starter code below to produce a bar chart of the top ten words in the text.**\n",
    "\n",
    "Your output might look like this:\n",
    "\n",
    "![bar chart](ps_02_bar_chart.png)"
   ]
  },
  {
   "cell_type": "code",
   "execution_count": 9,
   "metadata": {},
   "outputs": [],
   "source": [
    "def words(d, n=10):\n",
    "\n",
    "    total = sum(d.values())\n",
    "    print('Total Tokens:', total)\n",
    "    \n",
    "    print('\\nMost common tokens:')\n",
    "    for word in d.most_common(n):\n",
    "        print(word[0], '\\t', word[1])\n",
    "        \n",
    "    return None"
   ]
  },
  {
   "cell_type": "code",
   "execution_count": 10,
   "metadata": {},
   "outputs": [
    {
     "name": "stdout",
     "output_type": "stream",
     "text": [
      "Total Tokens: 109905\n",
      "\n",
      "Most common tokens:\n",
      "whale \t 1096\n",
      "one \t 913\n",
      "like \t 580\n",
      "upon \t 565\n",
      "ahab \t 511\n",
      "man \t 498\n",
      "ship \t 469\n",
      "old \t 443\n",
      "ye \t 439\n",
      "would \t 436\n"
     ]
    }
   ],
   "source": [
    "lst = [',','.',';','\\'s', '--', '``', '\\'\\'', '!', '?']\n",
    "for i in lst: \n",
    "    stop_words.add(i)\n",
    "\n",
    "moby_simple= Counter()\n",
    "with open(moby_path, 'r') as f: \n",
    "    for line in f:\n",
    "        tokens = word_tokenize(line.strip())\n",
    "        for token in tokens: \n",
    "            token = token.lower()\n",
    "            if not token in stop_words:\n",
    "                moby_simple[token] += 1\n",
    "words(moby_simple)"
   ]
  },
  {
   "cell_type": "code",
   "execution_count": 11,
   "metadata": {},
   "outputs": [
    {
     "data": {
      "image/png": "[encoded data removed]",
      "text/plain": [
       "<Figure size 432x288 with 1 Axes>"
      ]
     },
     "metadata": {
      "needs_background": "light"
     },
     "output_type": "display_data"
    }
   ],
   "source": [
    "# Make a bar chart of the top 10 words\n",
    "%matplotlib inline\n",
    "import matplotlib.pyplot as plt\n",
    "\n",
    "moby_chart = moby_simple.most_common(10)\n",
    "x = []\n",
    "for i in moby_chart: \n",
    "    x.append(i[0])\n",
    "y = []\n",
    "for i in moby_chart: \n",
    "    y.append(i[1])\n",
    "# Get labels and counts\n",
    "labels = x\n",
    "counts = y\n",
    "\n",
    "# Create the figure\n",
    "fig, ax = plt.subplots()\n",
    "ax.barh(x, y, color='royalblue') #like the ocean\n",
    "ax.invert_yaxis()\n",
    "ax.set_xlabel('Count')\n",
    "ax.set_ylabel('Words')\n",
    "ax.set_title('Words v Count')\n",
    "\n",
    "plt.show()"
   ]
  },
  {
   "cell_type": "markdown",
   "metadata": {},
   "source": [
    "## Optional: word clouds\n",
    "\n",
    "**This is optional.** Make a word cloud. You can do this the ugly way in pure `matplotlib` or the easy-and-pretty way by using the [`wordcloud`](https://github.com/amueller/word_cloud) library:\n",
    "\n",
    "```\n",
    "conda install -c conda-forge wordcloud\n",
    "```\n",
    "If you use `wordcloud`, you'll be interested in the [`.generate_from_frequencies()` method](http://amueller.github.io/word_cloud/auto_examples/frequency.html).\n",
    "\n",
    "Here are examples of the ugly and the pretty outputs. Your specific results might vary.\n",
    "\n",
    "![ugly](ps_02_ugly_cloud.png)\n",
    "![pretty](ps_02_pretty_cloud.png)"
   ]
  },
  {
   "cell_type": "code",
   "execution_count": 12,
   "metadata": {},
   "outputs": [],
   "source": [
    "# The ugly way (matplotlib)\n",
    "# Hint: you'll want to use the .text() plotting method\n",
    "# Strictly optional"
   ]
  },
  {
   "cell_type": "code",
   "execution_count": 17,
   "metadata": {},
   "outputs": [
    {
     "data": {
      "image/png": "[encoded data removed]",
      "text/plain": [
       "<Figure size 432x288 with 1 Axes>"
      ]
     },
     "metadata": {
      "needs_background": "light"
     },
     "output_type": "display_data"
    }
   ],
   "source": [
    "# The pretty way\n",
    "# Strictly optional\n",
    "\n",
    "#code from link posted\n",
    "import numpy as np\n",
    "import os\n",
    "import re\n",
    "from PIL import Image\n",
    "from os import path\n",
    "from wordcloud import WordCloud\n",
    "import matplotlib.pyplot as plt\n",
    "\n",
    "whale = np.array(Image.open(path.join(\"moby-dick-stencil.png\"))) #image from online, https://www.pinterest.com/pin/2111131054358686/\n",
    "moby_dick = open(moby_path).read()\n",
    "\n",
    "wc = WordCloud(background_color=\"white\", max_words=100, mask=whale,\n",
    "               stopwords=stop_words)\n",
    "\n",
    "wc.generate(moby_dick)\n",
    "\n",
    "plt.imshow(wc, interpolation='bilinear')\n",
    "plt.axis(\"off\")\n",
    "plt.show()"
   ]
  },
  {
   "cell_type": "code",
   "execution_count": 27,
   "metadata": {},
   "outputs": [
    {
     "data": {
      "image/png": "[encoded data removed]",
      "text/plain": [
       "<Figure size 432x288 with 1 Axes>"
      ]
     },
     "metadata": {
      "needs_background": "light"
     },
     "output_type": "display_data"
    }
   ],
   "source": [
    "wc = WordCloud(background_color=\"white\", max_words=100,\n",
    "               stopwords=stop_words)\n",
    "\n",
    "wc.generate(moby_dick)\n",
    "plt.imshow(wc, interpolation='nearest')\n",
    "plt.axis(\"off\")\n",
    "plt.show()"
   ]
  },
  {
   "cell_type": "code",
   "execution_count": null,
   "metadata": {},
   "outputs": [],
   "source": []
  }
 ],
 "metadata": {
  "kernelspec": {
   "display_name": "Python 3",
   "language": "python",
   "name": "python3"
  },
  "language_info": {
   "codemirror_mode": {
    "name": "ipython",
    "version": 3
   },
   "file_extension": ".py",
   "mimetype": "text/x-python",
   "name": "python",
   "nbconvert_exporter": "python",
   "pygments_lexer": "ipython3",
   "version": "3.8.3"
  }
 },
 "nbformat": 4,
 "nbformat_minor": 4
}
