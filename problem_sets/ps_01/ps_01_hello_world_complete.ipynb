{
 "cells": [
  {
   "cell_type": "markdown",
   "metadata": {},
   "source": [
    "# Problem set 1: Hello, Jupyter world!\n",
    "\n",
    "This problem set is just a shakedown to make sure that you can:\n",
    "\n",
    "1. Copy this notebook from GitHub.\n",
    "1. Run the notebook locally via Jupyter.\n",
    "1. Successfully execute code and render Markdown.\n",
    "1. Submit the completed notebook via CMS.\n",
    "\n",
    "## Prereqs and setup\n",
    "\n",
    "Before you begin, check to see if you already have Python 3 installed on your machine. At the command line, type:\n",
    "\n",
    "```\n",
    "python --version\n",
    "```\n",
    "\n",
    "On my system, this prints:\n",
    "\n",
    "```\n",
    "Python 3.8.3\n",
    "```\n",
    "\n",
    "So, I'm running Python 3.8. You can probably get away with a previous version of Python 3 down to 3.6, but not earlier and *definitely* not Python 2. If you need to install or upgrade Python, I **strongly** suggest using [Anaconda](https://www.anaconda.com/products/individual). \n",
    "\n",
    "If you already have Anaconda installed, but want to use a clean virtual environment for this class (great idea!), here's what you want (at the command line). Note that you can substitute any name you want in place of `info3350`:\n",
    "\n",
    "```\n",
    "conda update conda\n",
    "conda create --name info3350 anaconda=2020.07\n",
    "conda activate info3350\n",
    "```\n",
    "\n",
    "## Get the notebook\n",
    "\n",
    "Now, grab a copy of this notebook from [GitHub](https://github.com/wilkens-teaching/info3350-f20). I suggest cloning the whole repo so that you can easily pull updates to code, lectures, and other material in the future, but how you use GitHub is up to you.\n",
    "\n",
    "## Run JupyterLab\n",
    "\n",
    "Finally, launch Jupyter on your machine and open this notebook. FYI, the newer JupyterLab is generally replacing the older Jupyter Notebook. If you're used to typing `jupyter notebook` at the command line, try `jupyter lab` instead.\n",
    "\n",
    "## Execute some code"
   ]
  },
  {
   "cell_type": "code",
   "execution_count": 1,
   "metadata": {},
   "outputs": [
    {
     "data": {
      "text/plain": [
       "3"
      ]
     },
     "execution_count": 1,
     "metadata": {},
     "output_type": "execute_result"
    }
   ],
   "source": [
    "# First, do some math. Any math.\n",
    "1+2"
   ]
  },
  {
   "cell_type": "code",
   "execution_count": 2,
   "metadata": {},
   "outputs": [
    {
     "data": {
      "text/plain": [
       "7.5324018814968605"
      ]
     },
     "execution_count": 2,
     "metadata": {},
     "output_type": "execute_result"
    }
   ],
   "source": [
    "# More adventuresome ...\n",
    "# Length of a vector to a 3-dimensional point defined by math constants\n",
    "import math\n",
    "math.hypot(math.pi, math.e, math.tau)"
   ]
  },
  {
   "cell_type": "code",
   "execution_count": 3,
   "metadata": {},
   "outputs": [
    {
     "name": "stdout",
     "output_type": "stream",
     "text": [
      "Hello, world!\n"
     ]
    }
   ],
   "source": [
    "# Print a string. Any string.\n",
    "print('Hello, world!')"
   ]
  },
  {
   "cell_type": "code",
   "execution_count": 4,
   "metadata": {},
   "outputs": [
    {
     "data": {
      "image/png": "[encoded data removed]",
      "text/plain": [
       "<Figure size 432x288 with 1 Axes>"
      ]
     },
     "metadata": {
      "needs_background": "light"
     },
     "output_type": "display_data"
    }
   ],
   "source": [
    "# Import pyplot from matplotlib and plot the points (1,1) and (2,2)\n",
    "#  If you're feeling fancy, change the colors/sizes/style/etc.\n",
    "#  If you've never used matplotlib before, you can skip this one, \n",
    "#   or you can read the docs for matplotlib.pyplot.scatter\n",
    "\n",
    "# The line below tells Jupyter to display matplotlib output here in the notebook\n",
    "#  rather than as a separate file or window.\n",
    "%matplotlib inline\n",
    "from matplotlib import pyplot as plt\n",
    "plt.scatter(x=[1,2], y=[1,2], sizes=[100,200], color=['darkred', 'steelblue'])\n",
    "plt.show()"
   ]
  },
  {
   "cell_type": "markdown",
   "metadata": {},
   "source": [
    "## Use Markdown"
   ]
  },
  {
   "cell_type": "markdown",
   "metadata": {},
   "source": [
    "**Test Student**. I changed the cell to Markdown by pressing `m`. You could also do it by selecting 'Markdown' from the menu at the top of the notebook. Or maybe some other way in another editing environment!"
   ]
  },
  {
   "cell_type": "markdown",
   "metadata": {},
   "source": [
    "## Upload to CMS\n",
    "\n",
    "When you've finished the work above, save this notebook and upload it to [CMS](https://cmsx.cs.cornell.edu/web/auth/?action=overview) as your submission for problem set 1.\n",
    "\n",
    "## All done!"
   ]
  },
  {
   "cell_type": "code",
   "execution_count": null,
   "metadata": {},
   "outputs": [],
   "source": []
  }
 ],
 "metadata": {
  "kernelspec": {
   "display_name": "Python 3",
   "language": "python",
   "name": "python3"
  },
  "language_info": {
   "codemirror_mode": {
    "name": "ipython",
    "version": 3
   },
   "file_extension": ".py",
   "mimetype": "text/x-python",
   "name": "python",
   "nbconvert_exporter": "python",
   "pygments_lexer": "ipython3",
   "version": "3.8.3"
  }
 },
 "nbformat": 4,
 "nbformat_minor": 4
}
