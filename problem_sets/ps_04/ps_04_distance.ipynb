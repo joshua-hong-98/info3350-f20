{
 "cells": [
  {
   "cell_type": "markdown",
   "metadata": {},
   "source": [
    "# Problem set 4: Textual distances\n",
    "\n",
    "## Description\n",
    "\n",
    "**The goal of this problem set is to calculate the distance between several texts and to examine the effects of different distance metrics and input preprocessing steps.**\n",
    "\n",
    "You'll use the techniques developed in this problem set in the next several problems sets as well.\n",
    "\n",
    "Pay attention to the `import` statements in the next cell. We're going to use `scikit-learn` for both vectorization and distance calculations. We could do these steps by hand (indeed, we'll calculate by hand the Euclidean distance between two trivial documents), but `scikit-learn` has several advantages:\n",
    "\n",
    "* It implements configurable preprocessing steps.\n",
    "* It's well-vetted, so is unlikely to contain arithmetic errors.\n",
    "* It integrates with standard Python machine learning workflows.\n",
    "\n",
    "OK, to work!\n",
    "\n",
    "## Imports and setup"
   ]
  },
  {
   "cell_type": "code",
   "execution_count": null,
   "metadata": {},
   "outputs": [],
   "source": [
    "import numpy as np\n",
    "import os\n",
    "from   sklearn.feature_extraction.text import CountVectorizer, TfidfVectorizer\n",
    "from   sklearn.metrics.pairwise import euclidean_distances, cosine_distances\n",
    "\n",
    "dev_text = '''\\\n",
    "My cat likes water. She likes water so much that she often falls in the sink. But she hates to be wet.\n",
    "The dog eats food all day. The dog is named spot, but has no spots. The dog is furry.\n",
    "The dog and the cat play together. When they are tired, they eat and drink and sleep.\n",
    "A dog and a cat meet another dog and cat. They play, but only for a short while. They are not friends.\n",
    "The bird and the snake run in the woods. They do nothing like what the others do. But their function words do.'''\n",
    "\n",
    "dev_docs = [doc for doc in dev_text.split('\\n')] # Documents are one-per-line\n",
    "\n",
    "# Print docs for reference\n",
    "for i, text in enumerate(dev_docs):\n",
    "    print(i, text)"
   ]
  },
  {
   "cell_type": "markdown",
   "metadata": {},
   "source": [
    "## Task: Judging similarity (5 points)\n",
    "\n",
    "Consider the very short documents in `dev_docs`. Which do you judge to be most similar? Least similar? Why? Answer these questions in a couple of sentences.\n",
    "\n",
    "**Your answers here**"
   ]
  },
  {
   "cell_type": "markdown",
   "metadata": {},
   "source": [
    "## Task: Vectorization and Euclidean distance by hand\n",
    "\n",
    "Consider two sentences (or \"sentences\"):\n",
    "\n",
    "* sent_1: \"apple red\"\n",
    "* sent_2: \"orange orange\"\n",
    "\n",
    "How far apart are these documents in three-dimensional Euclidean space?\n",
    "\n",
    "First, record the vector representation of each sentence, where the count of the word \"apple\" is dimension 1, \"red\" is dimension two, and \"orange\" is dimension three. Your vectors should look like `sent_1 = [x, y, z]` where x, y, and z are integers.\n",
    "\n",
    "### Vector answer (5 points)\n",
    "\n",
    "Write the two vectors in Markdown in the cell below:"
   ]
  },
  {
   "cell_type": "markdown",
   "metadata": {},
   "source": [
    "**Your vector representations here**"
   ]
  },
  {
   "cell_type": "markdown",
   "metadata": {},
   "source": [
    "Recall that the Euclidean distance between two points is the square root of the sum of the squared differences between the points in each dimension. As an equation:\n",
    "\n",
    "$dist = \\sqrt{a^2 + b^2 + c^2 + ... + n^2}$\n",
    "\n",
    "where *a*, *b*, *c*, ..., *n* are the differences between the points in each of the *n* dimensions of the vector space.\n",
    "\n",
    "### Euclidean distance answer (5 points)\n",
    "\n",
    "Write the Euclidean distance between `sent_1` and `sent_2` in the Markdown cell below:"
   ]
  },
  {
   "cell_type": "markdown",
   "metadata": {},
   "source": [
    "**Your hand-calculated Euclidean distance answer here**"
   ]
  },
  {
   "cell_type": "markdown",
   "metadata": {},
   "source": [
    "## Example: Vectorize and calculate distances with `scikit-learn`\n",
    "\n",
    "As you can see, hand vectorization becomes cumbersome in a hurry and is impossible for most real-world corpora. Let's see how to do with `scikit-learn`.\n",
    "\n",
    "We'll begin with `CountVectorizer`, which transforms input texts into vectors of word counts.\n",
    "\n",
    "Couple of things ot note:\n",
    "\n",
    "* The workflow here is:\n",
    "  1. Initialize a vectorizer object, then \n",
    "  1. Use the initialized vectorizer's `fit_transform` method to tranform your input texts into vectorized output.\n",
    "* The vectorizer has many options that control what it does. I've included some of the more useful ones. Make sure you understand what each one does.\n",
    "  * See also the `CountVectorizer` [documentation](https://scikit-learn.org/stable/modules/generated/sklearn.feature_extraction.text.CountVectorizer.html).\n",
    "* I've also included some `print` statements that allow us to examine selected properties of the vector matrix and of the vectorizer itself. Make sure you understand what these are and how they are produced.\n",
    "\n",
    "### Vectorize"
   ]
  },
  {
   "cell_type": "code",
   "execution_count": null,
   "metadata": {},
   "outputs": [],
   "source": [
    "# This is a freebie to show how it's done\n",
    "\n",
    "# Set up the vectorizer object\n",
    "count_vectorizer = CountVectorizer(\n",
    "    encoding='utf-8',\n",
    "    strip_accents='unicode', # or 'ascii' (faster but less robust)\n",
    "    lowercase=True,\n",
    "    stop_words=None, # or 'english'\n",
    "    min_df=1, # include words that occur in as few as a single document\n",
    "    max_df=1.0, # include words that occur in as many as all documents\n",
    "    binary=False # True = return 1 if word is present in document, else 0\n",
    ")\n",
    "\n",
    "# Perform vectorization\n",
    "count_matrix = count_vectorizer.fit_transform(dev_docs)\n",
    "\n",
    "# Print some useful info about our data\n",
    "print(\"Matrix shape:\", count_matrix.shape)\n",
    "print(\"\\nFeature labels:\", count_vectorizer.get_feature_names())\n",
    "print(\"\\nStopwords used:\", count_vectorizer.get_stop_words())\n",
    "print(\"\\nDocument 0 vector:\", count_matrix[0].toarray())\n",
    "print(\"\\nDocument 0 words:\", count_vectorizer.inverse_transform(count_matrix[0]))"
   ]
  },
  {
   "cell_type": "markdown",
   "metadata": {},
   "source": [
    "### Calculate the pairwise distances between the documents\n",
    "\n",
    "Once we have our feature matrix from the previous step, it's a one-liner to calculate the pairwise distances between the objects. Note that the `euclidean_distances` and `cosine_distances` functions were imported from `sklearn` at the top of the notebook.\n",
    "\n",
    "We're operating naïvely here. We haven't normalized length or removed stopwords. And we think that Euclidean distances might not be very useful anyway. But it's a start.\n",
    "\n",
    "#### Naïve Euclidean distances"
   ]
  },
  {
   "cell_type": "code",
   "execution_count": null,
   "metadata": {},
   "outputs": [],
   "source": [
    "# Freebie for illustration purposes\n",
    "euc = euclidean_distances(count_matrix)\n",
    "euc"
   ]
  },
  {
   "cell_type": "markdown",
   "metadata": {},
   "source": [
    "This output array is ordered by sentence number in both columns and rows. In other words, to find the distance between sentence 0 and sentence 1, you can count zero rows down and 1 over, or 1 down and zero over. Note that the distance values in those two matrix positions are identical (7.5498...).\n",
    "\n",
    "#### Naïve cosine distances"
   ]
  },
  {
   "cell_type": "code",
   "execution_count": null,
   "metadata": {},
   "outputs": [],
   "source": [
    "# Freebie, ditto\n",
    "cos = cosine_distances(count_matrix)\n",
    "cos"
   ]
  },
  {
   "cell_type": "markdown",
   "metadata": {},
   "source": [
    "### Task: Assess naïve distance results (10 points)\n",
    "\n",
    "Offer a few brief reflections on the distance metrics we just calculated. Which sentences are closest to one another in each case? Which are furthest apart? Do these results make any kind of sense? If you're surprised, where do you think the method (or your intuition) goes wrong?"
   ]
  },
  {
   "cell_type": "markdown",
   "metadata": {},
   "source": [
    "**Your answer here**"
   ]
  },
  {
   "cell_type": "markdown",
   "metadata": {},
   "source": [
    "## Explore the impact of preprocessing and normalization\n",
    "\n",
    "**In the cell below, set up a new vectorizer that removes stopwords.** Keep the print statements from above. Then, in subsequent cells, calculate Euclidean and cosine distances on the new feature matrix. Finally, compare briefly the distance results without stopwords to those that retain stopwords.\n",
    "\n",
    "### Vectorize the dev documents, removing stopwords (5 points)"
   ]
  },
  {
   "cell_type": "code",
   "execution_count": null,
   "metadata": {},
   "outputs": [],
   "source": [
    "stopword_vectorizer = CountVectorizer(\n",
    "    Your vectorization options here\n",
    ")\n",
    "\n",
    "count_matrix_stopsremoved = Your code here\n",
    "\n",
    "print(\"Matrix shape:\", count_matrix_stopsremoved.shape)\n",
    "print(\"\\nFeature labels:\", stopword_vectorizer.get_feature_names())\n",
    "print(\"\\nStopwords used:\", sorted(stopword_vectorizer.get_stop_words()))\n",
    "print(\"\\nDocument 0 vector:\", count_matrix_stopsremoved[0].toarray())\n",
    "print(\"\\nDocument 0 words:\", stopword_vectorizer.inverse_transform(count_matrix_stopsremoved[0]))"
   ]
  },
  {
   "cell_type": "markdown",
   "metadata": {},
   "source": [
    "### Distances (5 points total)\n",
    "\n",
    "**Calculate (and display) Euclidean distances between your newly vectorized documents.**"
   ]
  },
  {
   "cell_type": "code",
   "execution_count": null,
   "metadata": {},
   "outputs": [],
   "source": [
    "# Calculate Euclidean distances for the new, stopword-removed feature matrix\n",
    "\n",
    "Your code here"
   ]
  },
  {
   "cell_type": "markdown",
   "metadata": {},
   "source": [
    "**Calculate (and display) cosine distances on the same matrix**"
   ]
  },
  {
   "cell_type": "code",
   "execution_count": null,
   "metadata": {},
   "outputs": [],
   "source": [
    "# Calculate cosine distances for the new, stopword-removed feature matrix\n",
    "\n",
    "Your code here"
   ]
  },
  {
   "cell_type": "markdown",
   "metadata": {},
   "source": [
    "### Task: Compare these results to the previous ones (5 points)\n",
    "\n",
    "How do the distances calculated after removing stopwords compare to those obtained when retaining stopwords?"
   ]
  },
  {
   "cell_type": "markdown",
   "metadata": {},
   "source": [
    "**Your answer here**"
   ]
  },
  {
   "cell_type": "markdown",
   "metadata": {},
   "source": [
    "## Normalize and try out TF-IDF weighting\n",
    "\n",
    "As noted in class, Euclidean distances are strongly influenced by document length. One way to minimize the impact of length is to *normalize* our vectors.\n",
    "\n",
    "To normalize our vectors, we need to switch to `TfidfVectorizer` (or else be prepared to do some math on our own). `TfidfVectorizer` has two helpful features that are not present in `CountVectorizer`:\n",
    "\n",
    "1. `TfidfVectorizer` applies selectable normalization to the calculated vectors. This prevents long documents from being far away from short documents simply because the documents contain different numbers of words.\n",
    "  1. There are two built-in normalization methods. `'l1'` produces vectors the elements of which sum to 1. `'l2'` produces vectors whose *squared* elements sum to 1.\n",
    "  1. One sees `l2` normalization used more often than `l1` for machine learning tasks. **In general**(!), *l2* produces better fits because it reduces the influence of outlying data points more aggressively, while *l1* produces sparser features (that is, feature vectors with more values that are close to zero). Sparse features can be desirable in some cases (feature selection and interpretation can be easier with sparse features, for instance).\n",
    "1. `TfidfVectorizer` allows us to apply [TF-IDF weighting](https://en.wikipedia.org/wiki/Tf%E2%80%93idf), if desired. This is a method of downweighting words that appear in many documents (on the theory that words shared by many documents are less likely to tell us much about the distinctive content of any one document than are words that are not so widely shared). TF-IDF is a classic preprocessing step in many information retrieval tasks, though it's unclear how much it helps when assessing document similarity. Since it's a selectable flag in `TfidfVectorizer`, we can try it out and see what difference it makes.\n",
    "\n",
    "You can consult the `TfidfVectorizer` [documentation](https://scikit-learn.org/stable/modules/generated/sklearn.feature_extraction.text.TfidfVectorizer.html) if you want details and options.\n",
    "\n",
    "### Vectorize (5 points)\n",
    "\n",
    "Vectorize the `dev_docs` with `TfidfVectorizer`, using `norm='l2'` and `use_idf=False` (that is, without TF-IDF weighting)."
   ]
  },
  {
   "cell_type": "code",
   "execution_count": null,
   "metadata": {},
   "outputs": [],
   "source": [
    "# Vectorize, norm on, idf off\n",
    "normalizing_vectorizer = TfidfVectorizer(\n",
    "    --> Your options here <--\n",
    "    norm='l2',\n",
    "    use_idf=False\n",
    ")\n",
    "norm_matrix = Your code here\n",
    "\n",
    "print(\"Matrix shape:\", norm_matrix.shape)\n",
    "print(\"\\nFeature labels:\", normalizing_vectorizer.get_feature_names())\n",
    "print(\"\\nDocument 0 vector:\", norm_matrix[0].toarray())\n",
    "print(\"\\nDocument 0 words:\", normalizing_vectorizer.inverse_transform(norm_matrix[0]))"
   ]
  },
  {
   "cell_type": "markdown",
   "metadata": {},
   "source": [
    "Verify that we're L2-normed. Sum of squared feature weights in each document should be 1.0."
   ]
  },
  {
   "cell_type": "code",
   "execution_count": null,
   "metadata": {},
   "outputs": [],
   "source": [
    "# Verify l2-norm, freebie\n",
    "# You may need to change the input variable name below to match what you used in the previous cell\n",
    "for i, vec in enumerate(norm_matrix.toarray()):\n",
    "    squared_features = [term**2 for term in vec]\n",
    "    print(f\"Squared feature weights in document {i} sum to 1:\", np.isclose(sum(squared_features), 1.0))"
   ]
  },
  {
   "cell_type": "markdown",
   "metadata": {},
   "source": [
    "### Task: Calculate distances for the normalized vectors and discuss the results (10 points total; 5 for distances, 5 for discussion)"
   ]
  },
  {
   "cell_type": "code",
   "execution_count": null,
   "metadata": {},
   "outputs": [],
   "source": [
    "# Euclidean distances on l2-normed features with stopword removal\n",
    "\n",
    "Your code here"
   ]
  },
  {
   "cell_type": "code",
   "execution_count": null,
   "metadata": {},
   "outputs": [],
   "source": [
    "# Cosine distances on l2-normed features with stopword removal\n",
    "\n",
    "Your code here"
   ]
  },
  {
   "cell_type": "markdown",
   "metadata": {},
   "source": [
    "**Your discussion of the impact of normalization here.** Write a few sentences."
   ]
  },
  {
   "cell_type": "markdown",
   "metadata": {},
   "source": [
    "### Task: Try TF-IDF (15 points total: 5 vectorization/5 distances/5 discussion)\n",
    "\n",
    "Set up a new vectorizer with normalization *and* TF-IDF weighting. Then calculate the Euclidean and cosine distance matrices and compare the results to the normalized but non-TF-IDF results immediately above."
   ]
  },
  {
   "cell_type": "code",
   "execution_count": null,
   "metadata": {},
   "outputs": [],
   "source": [
    "# Vectorize, norm on, idf on\n",
    "tfidf_vectorizer = TfidfVectorizer(\n",
    "    --> Your options here <--\n",
    "    norm='l2',\n",
    "    use_idf=True\n",
    ")\n",
    "tfidf_matrix = Your code here\n",
    "\n",
    "print(\"Matrix shape:\", tfidf_matrix.shape)\n",
    "print(\"\\nFeature labels:\", tfidf_vectorizer.get_feature_names())\n",
    "print(\"\\nDocument 0 vector:\", tfidf_matrix[0].toarray())\n",
    "print(\"\\nDocument 0 words:\", tfidf_vectorizer.inverse_transform(tfidf_matrix[0]))"
   ]
  },
  {
   "cell_type": "code",
   "execution_count": null,
   "metadata": {},
   "outputs": [],
   "source": [
    "# Euclidean distances\n",
    "\n",
    "Your code here"
   ]
  },
  {
   "cell_type": "code",
   "execution_count": null,
   "metadata": {},
   "outputs": [],
   "source": [
    "# Cosine distances\n",
    "\n",
    "Your code here"
   ]
  },
  {
   "cell_type": "markdown",
   "metadata": {},
   "source": [
    "**Your discussion of the impact of TF-IDF here.** Again, a couple of sentences."
   ]
  },
  {
   "cell_type": "markdown",
   "metadata": {},
   "source": [
    "## Finally: Try a few novels (30 points total)\n",
    "\n",
    "Points breakdown:\n",
    "\n",
    "* 10 points for thoughtful vectorization settings\n",
    "* 5 points for calculating distances\n",
    "* 15 points for thoughtful dicussion of your results and their generalizability\n",
    "\n",
    "In the cell below is a list of five novels. They are:\n",
    "\n",
    "* Stephen Crane's *Maggie: A Girl of the Streets* (1893)\n",
    "* Theodore Dreiser's *Sister Carrie* (1900)\n",
    "* Charlotte Perkins Gilman's *Herland* (1915)\n",
    "* Jane Austen's *Pride and Prejudice* (1813)\n",
    "* George Eliot's *Middlemarch* (1869)\n",
    "\n",
    "There's reason to believe that some of these novels resemble one another, while others are quite dissimilar. \n",
    "\n",
    "* *Maggie*, *Sister Carrie*, and *Herland* are American novels published around the start of the twentieth century; Austen's and Eliot's novels are British and were published decades earlier.\n",
    "* The first two novels were written by men; the last three by women.\n",
    "* The first two books are Naturalist novels about the (mis)fortunes of young women in predatory cities. *Herland* is an early feminist utopia. The last two books are classic Romantic/Realist novels about British country life, with special emphasis on the aristocracy.\n",
    "\n",
    "Do the distance metrics we've seen so far reflect the differences we would expect to see between these texts?\n",
    "\n",
    "### Task: Calculate distances between these five texts. Discuss your results.\n",
    "\n",
    "* You may use any of the vectorization approaches and distance metrics explored above. \n",
    "* You must justify your decisions concerning parameters and techniques.\n",
    "* If you remove stopwords (you should, but there are different ways to do this, not all of which involve a fixed list of words), you must justify your choices. Unreflective reliance on a stock list of stopwords is not good enough.\n",
    "* Conclude your work with a discussion of your results.\n",
    "  * Did your results match your expectations? In what ways?\n",
    "  * What else might you try so as to improve your results?\n",
    "  * Can you make any more general observations about the approaches to document similarity that you've employed?"
   ]
  },
  {
   "cell_type": "code",
   "execution_count": null,
   "metadata": {},
   "outputs": [],
   "source": [
    "# Novel list\n",
    "novels = [\n",
    "    'A-Crane-Maggie-1893-M.txt',\n",
    "    'A-Dreiser-Sister_Carrie-1900-M.txt',\n",
    "    'A-Gilman-Herland-1915-F.txt',\n",
    "    'B-Austen-Pride_Prejudice-1813-F.txt',\n",
    "    'B-Eliot-Middlemarch-1869-F.txt'\n",
    "]\n",
    "\n",
    "# File location. Modify as needed.\n",
    "novel_path = os.path.join('..','..','data','texts')\n",
    "\n",
    "# Create list of full file paths\n",
    "files = [os.path.join(novel_path, novel) for novel in novels]"
   ]
  },
  {
   "cell_type": "code",
   "execution_count": null,
   "metadata": {},
   "outputs": [],
   "source": [
    "# Vectorize and calculate suitable distances\n",
    "\n",
    "novel_vectorizer = TfidfVectorizer(\n",
    "    input='filename', # Take input as file paths, not raw text\n",
    "    --> Your options here <--\n",
    ")\n",
    "\n",
    "Your code here"
   ]
  },
  {
   "cell_type": "markdown",
   "metadata": {},
   "source": [
    "**Your discussion here.** Probably a couple of paragraphs.\n",
    "\n",
    "* How did you choose to vectorize?\n",
    "* How did you approach stopword removal?\n",
    "* How did you measure distances?\n",
    "* What did you find?\n",
    "* How might you improve your results?\n",
    "* Are you prepared to offer any generalizations about textual simlarity in novels?"
   ]
  },
  {
   "cell_type": "code",
   "execution_count": null,
   "metadata": {},
   "outputs": [],
   "source": []
  }
 ],
 "metadata": {
  "kernelspec": {
   "display_name": "Python 3",
   "language": "python",
   "name": "python3"
  },
  "language_info": {
   "codemirror_mode": {
    "name": "ipython",
    "version": 3
   },
   "file_extension": ".py",
   "mimetype": "text/x-python",
   "name": "python",
   "nbconvert_exporter": "python",
   "pygments_lexer": "ipython3",
   "version": "3.8.3"
  }
 },
 "nbformat": 4,
 "nbformat_minor": 4
}
