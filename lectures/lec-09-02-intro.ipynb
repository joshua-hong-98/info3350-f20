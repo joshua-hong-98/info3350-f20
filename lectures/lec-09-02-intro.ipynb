{
 "cells": [
  {
   "cell_type": "markdown",
   "metadata": {},
   "source": [
    "**2 September 2020**\n",
    "\n",
    "# Introduction: INFO 3350/6350\n",
    "\n",
    "**Welcome to Information Science 3350 and 6350: Text Mining for History and Literature.**\n",
    "\n",
    "Here's today's agenda:\n",
    "\n",
    "## Review the syllabus\n",
    "\n",
    "* What is this class about?\n",
    "* Who is it for?\n",
    "  * Who might *not* want to take this class?\n",
    "* What will we do and how will it run?\n",
    "  * Note that you will often have a problem set due on Tuesday evening.\n",
    "  * Four times during the semester, on dates of your choice, you will *also* have a reading response due on Tuesday.\n",
    "\n",
    "## Introduce staff\n",
    "\n",
    "* Prof. Matthew Wilkens\n",
    "* Maria Antoniak (grad TA)\n",
    "* Jannie Li (undergrad TA)\n",
    "* Haley Mathews (undergrad TA)\n",
    "* LeAnn McDowall (undergrad TA)\n",
    "\n",
    "## Whom to contact?\n",
    "\n",
    "* Homework problem, due date question, GitHub issue, lecture clarification, etc: post to Campuswire.\n",
    "* Course admin issue (switch sections, access CMS, etc.): email Maria.\n",
    "* Everything else: email Matt or come to Matt or Maria's office hours.\n",
    "\n",
    "When in doubt, post to Campuswire. Questions there will be flagged for Matt and Maria as needed. Note that you can get extra credit for answering (correctly!) other students' questions on Campuswire.\n",
    "\n",
    "**Links to all course resources are on [Canvas](https://canvas.cornell.edu/courses/20174).**\n",
    "\n",
    "## Friday sections\n",
    "\n",
    "* Sections 201 and 202 are in-person in Upson Hall. If you are enrolled in one of these sections, **do not come to class unless you have a seat assignment**. Seat assignments will be sent to you via Canvas no later than Thursday night. If you do not have a seat assignment by Friday morning, stay home and join one of the later online sections.\n",
    "* Sections 203, 204, and 205 are online at the same Zoom link as the lectures.\n",
    "\n",
    "## Graduate section\n",
    "\n",
    "Grad students enrolled in 6350 will have an additional meeting each week to discuss research and advanced topics. If you are enrolled in 6350, please fill out the poll launching ... now."
   ]
  },
  {
   "cell_type": "code",
   "execution_count": null,
   "metadata": {},
   "outputs": [],
   "source": []
  }
 ],
 "metadata": {
  "kernelspec": {
   "display_name": "Python 3",
   "language": "python",
   "name": "python3"
  },
  "language_info": {
   "codemirror_mode": {
    "name": "ipython",
    "version": 3
   },
   "file_extension": ".py",
   "mimetype": "text/x-python",
   "name": "python",
   "nbconvert_exporter": "python",
   "pygments_lexer": "ipython3",
   "version": "3.8.3"
  }
 },
 "nbformat": 4,
 "nbformat_minor": 4
}
