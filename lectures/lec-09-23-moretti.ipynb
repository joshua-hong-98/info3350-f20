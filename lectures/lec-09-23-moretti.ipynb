{
 "cells": [
  {
   "cell_type": "markdown",
   "metadata": {},
   "source": [
    "**23 September 2020**\n",
    "\n",
    "# Discussion: Moretti, \"The Slaughterhouse of Literature\"\n",
    "\n",
    "## Admin\n",
    "\n",
    "* Office hours\n",
    "* Drop-in/pick-up Zoom\n",
    "* Update your Zoom (selectable breakout rooms)\n",
    "\n",
    "\n",
    "## Questions\n",
    "\n",
    "1. What is a **canon** in literary studies?\n",
    "1. What kind of work and analysis does Moretti have in mind when he speaks of **classical or canon-based literary criticism**? What does this criticism look like?\n",
    "1. According to Moretti, **what makes readers like or dislike a book**? Do you agree?\n",
    "1. **Has Moretti chosen his example (the detective story) \"innocently\"?** In other words, are detective novels as good as any other genre for evaluating his hypothesis about the importance of form?\n",
    "1. Moretti suggests that writers act, collectively, like an **evolving species**, with the marketplace providing selection pressure. How far are you willing to go with this metaphor?\n",
    "1. Moretti says that ***texts* are not the real objects of literary-historical knowledge**. Why not, and what takes their place?\n",
    "1. Moretti emphasizes the so-called ***longue durée* of literary history**, its slow evolution. Is this emphasis reconcilable with the essay's focus on one principle writer (Conan Doyle) at one moment in history (late 19th century)? Why or why not?\n",
    "1. Does Moretti's emphasis on form foreclose interest in (and attentiveness to) issues of **identity and exclusion**? In other words, do Moretti's methods stand in the way of understanding how some writers and stories are excluded from readership?\n",
    "1. **Do we know enough** to even do this work (is it like a language we don't know)?"
   ]
  },
  {
   "cell_type": "code",
   "execution_count": null,
   "metadata": {},
   "outputs": [],
   "source": []
  }
 ],
 "metadata": {
  "kernelspec": {
   "display_name": "Python 3",
   "language": "python",
   "name": "python3"
  },
  "language_info": {
   "codemirror_mode": {
    "name": "ipython",
    "version": 3
   },
   "file_extension": ".py",
   "mimetype": "text/x-python",
   "name": "python",
   "nbconvert_exporter": "python",
   "pygments_lexer": "ipython3",
   "version": "3.8.3"
  }
 },
 "nbformat": 4,
 "nbformat_minor": 4
}
