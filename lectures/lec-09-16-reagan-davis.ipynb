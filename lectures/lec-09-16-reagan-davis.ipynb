{
 "cells": [
  {
   "cell_type": "markdown",
   "metadata": {},
   "source": [
    "**16 September 2020**\n",
    "\n",
    "# Discussion: Reagan et al. and Davis\n",
    "\n",
    "## Administrivia\n",
    "\n",
    "* **Problem set 1** grades have been released on CMS.\n",
    "* **Problem set 2** was due last night. \n",
    "  * If you're using slip day(s), you're on the clock.\n",
    "* Consider attending the **10:20am** section on Friday.\n",
    "  * Fewer people, more attention, better experience.\n",
    "* You must complete at least one **reading response** by next Tuesday evening.\n",
    "  * Grades for response 1 will be released after this deadline passes.\n",
    "  * The ones that have arrived so far have been good. Keep it up!\n",
    "* Other questions or issues?\n",
    "\n",
    "## Intro\n",
    "\n",
    "* Why group these articles?\n",
    "  * They both use basic dictionary methods to produce interesting results.\n",
    "  * Contrast between them helps to illustrate the importance of having an interesting *idea* behind your research task.\n",
    "  * We'll do something (semi)related for the next problem set.\n",
    "\n",
    "## Discussion -> breakout rooms for 7 minutes\n",
    "\n",
    "### Mechanics\n",
    "\n",
    "* Three groups for each reading. \n",
    "* Address the questions below, and note additional questions or issues that come up in your group discussion.\n",
    "  * Quoting specific passages from the text is very helpful for everyone!\n",
    "* Select one or two group members to summarize your answers/questions.\n",
    "* When we reconvene, we'll hear \"reports\" and discuss each reading as a large group for about 10-12 minutes.\n",
    "  * Keep your reports brief and snappy!\n",
    "\n",
    "### Reagan et al., \"The emotional arcs of stories\" (rooms 1-3)\n",
    "\n",
    "* Comments on the corpus (Project Gutenberg) and/or methods (the \"hedonometer,\" SVD, Ward's clustering, self-organizing maps)?\n",
    "* How should we evaluate the importance of the \"discovery\" that there are 6 (or 5 or 7) \"universal\" \"emotional arcs\" in \"stories\"? (think about why this question involves so many scare quotes).\n",
    "  * How do you think about the relationship between novelty/outliers and convention/central tendencies? \n",
    "\n",
    "### Erin Davis (and Liana Sposto), \"The Physical Traits that Define Men and Women in Literature\" (rooms 4-6)\n",
    "\n",
    "* What is the corpus and what are the methods applied in this study?\n",
    "  * Are both of those elements well justified?\n",
    "* What are the social/readerly effects of the representational differences Davis identifies?\n",
    "* Does the format of the essay work for you? \n",
    "  * Would you like to see more like this (in the field, not just our class)?\n",
    "  * Why do you imagine that there *aren't* more such \"visual essays\" in the professional literature?"
   ]
  },
  {
   "cell_type": "code",
   "execution_count": null,
   "metadata": {},
   "outputs": [],
   "source": []
  }
 ],
 "metadata": {
  "kernelspec": {
   "display_name": "Python 3",
   "language": "python",
   "name": "python3"
  },
  "language_info": {
   "codemirror_mode": {
    "name": "ipython",
    "version": 3
   },
   "file_extension": ".py",
   "mimetype": "text/x-python",
   "name": "python",
   "nbconvert_exporter": "python",
   "pygments_lexer": "ipython3",
   "version": "3.8.3"
  }
 },
 "nbformat": 4,
 "nbformat_minor": 4
}
