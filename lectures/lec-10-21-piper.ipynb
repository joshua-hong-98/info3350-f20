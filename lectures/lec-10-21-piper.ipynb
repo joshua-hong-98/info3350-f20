{
 "cells": [
  {
   "cell_type": "markdown",
   "metadata": {},
   "source": [
    "**21 October 2020**\n",
    "\n",
    "# Discussion: Piper\n",
    "\n",
    "## Admin\n",
    "\n",
    "* CURB events (tonight and 10/26): [cornellcurb.com](cornellcurb.com)\n",
    "* Friday section will be brief intro, then co-working time for the mini-project\n",
    "* Mini-project is due on 10/27 by 11:59pm\n",
    "\n",
    "## Finish feature importance demo\n",
    "\n",
    "Revisit the end of Monday's lecture.\n",
    "\n",
    "## Piper, \"Characterization\" (from _Enumerations_)\n",
    "\n",
    "1. Prior to reading Piper's chapter, **how did you think about characters in novels**? How many characters does a \"normal\" novel contain? What's the difference between major characters and minor characters? Do characters vary a lot between books? Do they vary a lot within books? Is there a link between character orignality and literary quality (that is, do the best books invent new kinds of characters, or do they master existing character types)?\n",
    "\n",
    "1. Walk us through Piper's **corpus and methods**. How many books? How were the books processed? What information did Piper extract from them? What were his main approaches to quantifying character?\n",
    "\n",
    "1. One of Piper's findings is that nineteenth-century (C19) female authors wrote female characters that were (on average) **especially introspective** compared to other author-character gender pairs. But he notes that this gender-distinctiveness around introspection disappeared from most literature (and especially from \"serious\" or \"high-status\" literature) during the twentieth century. How does he measure \"introspection\"? What contemporary genres does he find are most introspective? How would you explain his results? Do his findings match your experience as a reader?\n",
    "\n",
    "1. Another of Piper's findings is that there's a bigger average **difference between character terms and non-character terms** within the same novel than there is between character terms alone drawn from different novels (see figure 5.2). How can we explain this result in inutitive terms? \n",
    "\n",
    "1. My sense is that **this chapter feels different** from some of our other readings: it's more \"literary,\" somehow, especially as it draws to a close. Do you agree? Can you pin down its literariness? Does it seem important to you that literary analysis be different in style or content from, say, social science or CS research?"
   ]
  },
  {
   "cell_type": "code",
   "execution_count": null,
   "metadata": {},
   "outputs": [],
   "source": []
  }
 ],
 "metadata": {
  "kernelspec": {
   "display_name": "Python 3",
   "language": "python",
   "name": "python3"
  },
  "language_info": {
   "codemirror_mode": {
    "name": "ipython",
    "version": 3
   },
   "file_extension": ".py",
   "mimetype": "text/x-python",
   "name": "python",
   "nbconvert_exporter": "python",
   "pygments_lexer": "ipython3",
   "version": "3.8.3"
  }
 },
 "nbformat": 4,
 "nbformat_minor": 4
}
