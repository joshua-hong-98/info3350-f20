{
 "cells": [
  {
   "cell_type": "markdown",
   "metadata": {},
   "source": [
    "**28 October 2020**\n",
    "\n",
    "# Discussion: Underwood and Yauney et al.\n",
    "\n",
    "## Admin\n",
    "\n",
    "* Two more Wednesdays to go before break; three responses (total) due by 11/11\n",
    "    * No class meetings or other work due during semifinals week or Thanksgiving week\n",
    "* PS 8 (mini-project) now using slip days\n",
    "* PS 9 (stats and hypothesis testing) coming soon\n",
    "\n",
    "## Finish stats overview\n",
    "\n",
    "Recall that we've discussed **hypothesis testing** and **confidence intervals** (both analytical and bootstrapped)\n",
    "\n",
    "* In the context of hypothesis testing, we mentioned *t*-tests\n",
    "* *t*-tests are just one type of statistical hypothesis test\n",
    "* Other hypothesis test methods include ...\n",
    "    * ANOVA\n",
    "    * Chi-square\n",
    "    * Likelihood ratio\n",
    "    * Mann-Whitney/Wilcoxon\n",
    "    * ...\n",
    "* These all have different properties and may be appropriate (or not) for different kinds of data\n",
    " \n",
    "Return briefly to the lecture to discuss **effect sizes** ...\n",
    "\n",
    "## Underwood, \"Why Literary Time is Measured in Minutes\"\n",
    "\n",
    "1. Describe Underwood's corpus and methods. How many novels? How were they selected? How was time time measured? What computational work was involved?\n",
    "\n",
    "1. What is Underwood's principal finding? How do his results diverge from critcal expectations?\n",
    "\n",
    "1. This essay is as much about the methods used in literary studies as it is about a specific result. What is the definition of literary analysis against which Underwood is arguing? What does he think is the danger or problem with that definition? Why is the specific result explored in the article relevant to this danger?\n",
    "\n",
    "## Yauney et al, \"Computational Prediction of Elapsed Narrative Time\"\n",
    "\n",
    "1. Describe the methods and corpora used by Yauney, Underwood, and Mimno.\n",
    "\n",
    "1. Does the overall performance of the model surprise you? Why or why not? Do the most strongly predictive textual features make sense to you?"
   ]
  },
  {
   "cell_type": "code",
   "execution_count": null,
   "metadata": {},
   "outputs": [],
   "source": []
  }
 ],
 "metadata": {
  "kernelspec": {
   "display_name": "Python 3",
   "language": "python",
   "name": "python3"
  },
  "language_info": {
   "codemirror_mode": {
    "name": "ipython",
    "version": 3
   },
   "file_extension": ".py",
   "mimetype": "text/x-python",
   "name": "python",
   "nbconvert_exporter": "python",
   "pygments_lexer": "ipython3",
   "version": "3.8.3"
  }
 },
 "nbformat": 4,
 "nbformat_minor": 4
}
