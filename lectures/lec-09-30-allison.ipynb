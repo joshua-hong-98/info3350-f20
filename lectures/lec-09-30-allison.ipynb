{
 "cells": [
  {
   "cell_type": "markdown",
   "metadata": {},
   "source": [
    "**30 September 2020**\n",
    "\n",
    "# Discussion: Allison et al., \"Quantitative Formalism\"\n",
    "\n",
    "## Admin\n",
    "\n",
    "* My office hour -> Weds?\n",
    "* Response 2 due by **next Tuesday**.\n",
    "* Problem set grading: style helps.\n",
    "\n",
    "## Questions about clustering?\n",
    "\n",
    "## About the lab model\n",
    "\n",
    "A word about the Stanford Lit Lab, the pamphlets, and the idea of \"laboratory\" research in the humanities ...\n",
    "\n",
    "## Questions\n",
    "\n",
    "**Choose your own breakout room. Max 10 people per room.**\n",
    "\n",
    "1. What is the central question of the article?\n",
    "1. Does this piece use supervised or unsupervised methods? \n",
    "    1. Did the authors make the right call about the methods used?\n",
    "1. Computational methods seem to have landed on different features than those that humans use to differentiate genres. What do you make of this?\n",
    "    1. How could the methods be modified to capture aspects of human judgment about genre differences?\n",
    "1. Several people noted that generic differences and historical differences are not cleanly separable. How might we assess the effects of shifting historical baselines on other aspects of textual difference?"
   ]
  },
  {
   "cell_type": "code",
   "execution_count": null,
   "metadata": {},
   "outputs": [],
   "source": []
  }
 ],
 "metadata": {
  "kernelspec": {
   "display_name": "Python 3",
   "language": "python",
   "name": "python3"
  },
  "language_info": {
   "codemirror_mode": {
    "name": "ipython",
    "version": 3
   },
   "file_extension": ".py",
   "mimetype": "text/x-python",
   "name": "python",
   "nbconvert_exporter": "python",
   "pygments_lexer": "ipython3",
   "version": "3.8.3"
  }
 },
 "nbformat": 4,
 "nbformat_minor": 4
}
