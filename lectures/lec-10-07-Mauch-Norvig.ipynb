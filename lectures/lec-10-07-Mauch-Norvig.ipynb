{
 "cells": [
  {
   "cell_type": "markdown",
   "metadata": {},
   "source": [
    "**07 October 2020**\n",
    "\n",
    "# Discussion: Mauch et al; Norvig\n",
    "\n",
    "## Admin\n",
    "\n",
    "* Friday section at 10:20 canceled this week only.\n",
    "    * Attend at 11:15 if possible, else watch recording of the 11:15 section.\n",
    "* No discussion reading/post/meeting for Wednesday next week (fall break).\n",
    "* Update Zoom! Need version >= 5.3.\n",
    "\n",
    "## Mauch et al., \"The Evolution of Popular Music\"\n",
    "\n",
    "1. **Describe the corpus** with which the researchers are working. That is, what is their input data? \n",
    "    * How does this dataset relate to the social question they want to answer?\n",
    "    * Is the fit between question and data a good one?\n",
    "1. How do you explain the study's finding that popular music changed with the arrival of hip-hop in ... 1991? Doesn't the **historical timing** seem a little off?\n",
    "1. To what extent are the paper's methods **supervised or unsupervised**? \n",
    "    * Why have the authors adopted the approach they have?\n",
    "    * Can you imagine a version of the experiment that would make heavier use of the opposite class of methods?\n",
    "1. If you were interested in studying the evolution of music **today and in the future**, how (if at all) would you want to modify the corpus or methods used here?\n",
    "\n",
    "\n",
    "## Norvig, \"On Chomsky and the Two Cultures of Statistical Learning\"\n",
    "\n",
    "*NB.* Peter Norvig is the Director of Research at Google. Noam Chomsky is sometimes called the \"father of modern lingusitics\" and is a prominent public intellectual. This is a debate between heavyweights.\n",
    "\n",
    "1. What do you take to be Norvig's primary criticism of Chomsky? \n",
    "1. Why do you suppose I assigned this reading? Take as a given that we are not, in this class, especially interested in debates internal to linguistics, but that we **are** interested in debates about the proper role of computation in the humanities."
   ]
  },
  {
   "cell_type": "code",
   "execution_count": null,
   "metadata": {},
   "outputs": [],
   "source": []
  }
 ],
 "metadata": {
  "kernelspec": {
   "display_name": "Python 3",
   "language": "python",
   "name": "python3"
  },
  "language_info": {
   "codemirror_mode": {
    "name": "ipython",
    "version": 3
   },
   "file_extension": ".py",
   "mimetype": "text/x-python",
   "name": "python",
   "nbconvert_exporter": "python",
   "pygments_lexer": "ipython3",
   "version": "3.8.3"
  }
 },
 "nbformat": 4,
 "nbformat_minor": 4
}
