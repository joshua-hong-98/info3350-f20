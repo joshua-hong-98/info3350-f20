{
 "cells": [
  {
   "cell_type": "markdown",
   "metadata": {},
   "source": [
    "**04 November 2020**\n",
    "\n",
    "# Discussion: Evans and Wilkens\n",
    "\n",
    "## Admin\n",
    "\n",
    "* One more Wednesday to go before break; three responses (total) due by 11/11\n",
    "    * No class meetings or other work due during semifinals week or Thanksgiving week\n",
    "* Watch Monday's recorded lecture if you haven't already\n",
    "* PS 9 (stats and hypothesis testing) due tonight\n",
    "* Note: 3 added slip days (use any time)\n",
    "* PS 10 (feature exapnsion and NLP) coming soon\n",
    "* My office hours shifting this Thursday (2-3pm) and Friday (4:30-5:30pm)\n",
    "    * TA office hours unchanged\n",
    "    * My schedule back to normal next week\n",
    "\n",
    "## Finish NLP and mixed features lecture\n",
    "\n",
    "* Brief review of Monday's material\n",
    "    * Questions from the recorded lecture?\n",
    "* Discuss mixed features and matrix manipulation\n",
    "\n",
    "## Discussion: Evans and Wilkens\n",
    "\n",
    "1. Describe the corpora studied in the article and the methods used to analyze them. Why did the authors select the corpora they did? Why are the sizes of the copora so different? What kinds of texts are missing from the study?\n",
    "\n",
    "1. One of the article's findings concerns \"internationalization.\" What do the authors conclude about changes in international literary attention over time and about the differences in internationalism between different corpora? How do you imagine things look today? Would you expect to see the same results in American fiction? Italian? Chinese?\n",
    "\n",
    "1. The article relies on counting explicit mentions of named location entities. What kinds of places (or other spatial information) is this approach likely to miss? What might a follow-up study do to capture such spaces?"
   ]
  },
  {
   "cell_type": "code",
   "execution_count": null,
   "metadata": {},
   "outputs": [],
   "source": []
  }
 ],
 "metadata": {
  "kernelspec": {
   "display_name": "Python 3",
   "language": "python",
   "name": "python3"
  },
  "language_info": {
   "codemirror_mode": {
    "name": "ipython",
    "version": 3
   },
   "file_extension": ".py",
   "mimetype": "text/x-python",
   "name": "python",
   "nbconvert_exporter": "python",
   "pygments_lexer": "ipython3",
   "version": "3.8.3"
  }
 },
 "nbformat": 4,
 "nbformat_minor": 4
}
