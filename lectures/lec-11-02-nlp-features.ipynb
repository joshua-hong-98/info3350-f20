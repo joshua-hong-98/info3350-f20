{
 "cells": [
  {
   "cell_type": "markdown",
   "metadata": {},
   "source": [
    "**02 November 2020**\n",
    "\n",
    "# Feature expansion and natural language processing (NLP)\n",
    "\n",
    "## Admin\n",
    "\n",
    "* Problem set 9 (stats and feature importance) due **Wednesday** night by 11:59pm (pushing one day for Election Day)\n",
    "* Read Evans and Wilkens for Wednesday\n",
    "    * If writing a response, post to Canvas by Tuesday evening at 9:00pm\n",
    "    * Three total responses due by 11/11"
   ]
  },
  {
   "cell_type": "markdown",
   "metadata": {},
   "source": [
    "## What we want from our features\n",
    "\n",
    "* Sometimes we want to move from specific words to higher-level categories in order to achieve **better classification or similarity results**\n",
    "    * Here, we can be pragmatic. What features produce the best results?\n",
    "    * But we may still care about explainability\n",
    "* Sometimes we move from words to concepts because we care about the **concepts themselves**\n",
    "    * In this case, explainability is really important\n",
    "    * We need to understand how our features capture (or fail to capture) the concepts we care about\n",
    "* And sometimes, we want to incorporate **paratextual features**, that is, features that are *about* a book, but aren't *in* the book, strictly speaking\n",
    "    * Author identify, gender, publication date, national origin, genre, market success, etc.\n",
    "\n",
    "**Today: look (a little bit) into non-unigram feature types that may help us in each of these cases**\n",
    "\n",
    "## There's more to life than token unigrams\n",
    "\n",
    "* Most of our work so far has used counts of **token unigrams** (that is, individual words) to characterize texts\n",
    "* This is non-crazy!\n",
    "    * The words in a book tell us a lot about that book\n",
    "* But we often care less about words than we do about the classes of things those words represent\n",
    "    * Recall our work on sentiment and emotion\n",
    "        * We collapsed thousands of words into a small set of distinct(?) emotion types\n",
    "    * Words are often just the most straightforward way to capture ideas, subject matter, types of action, chacaterization, etc.\n",
    "* There are additional ways to capture these higher-level concerns\n",
    "    * ***n*-grams** and **noun phrases** capture multi-word sequences like \"best friend\" and \"New York\"\n",
    "    * **Lemmatization** collapses specific word forms into a single root (\"running\" -> \"run\", \"cats\" -> \"cat\")\n",
    "    * **Part of speech** tagging collapses words into their linguistic functions (noun, verb, adjective, preposition, etc.)\n",
    "    * **Named entity recognition** identifies named entities (people, organizations, places, etc.)\n",
    "    * Several different approaches to identifying **subject matter**\n",
    "        * Next week: topic models\n",
    "        * Latent Semantic Analysis (LSA), which we've already seen, in a different context, as SVD\n",
    "        * Can think of all these methods as *dimension reduction* techniques: we use far more words than we have truly distinct concepts\n",
    "    \n",
    "## *n*-grams\n",
    "\n",
    "* ***n*-grams** are sequences of some number of words that occur one after another in a text\n",
    "* '*n*' represents the number of consecutive words.\n",
    "    * *n*=1 is called a unigram. We've used these extensively already.\n",
    "    * *n*=2 is a bigram, 3=trigram, etc.\n",
    "\n",
    "Note a useful tool: [Google Books Ngram Viewer](https://books.google.com/ngrams). [See a sample](https://books.google.com/ngrams/interactive_chart?content=Great+War%2CWorld+War+I%2CWorld+War+II&year_start=1800&year_end=2019&corpus=27&smoothing=3&direct_url=t1%3B%2CGreat+War%3B%2Cc0%3B.t1%3B%2CWorld+War+I%3B%2Cc0%3B.t1%3B%2CWorld+War+II%3B%2Cc0).\n",
    "\n",
    "Of course, **be careful when considering historical use of words and phrases**. Consider semantic drift (changes in a word's meaning over time), orthographic issues like the (archaic) long 's', and the general sense in which published books do no represent all of a society in real time. But these are issues we always face! \n",
    "\n",
    "We can do this, too. As ever, we can count sequences of words by hand. But `sklearn`'s vectorizers make it easy to add *n*-gram features:"
   ]
  },
  {
   "cell_type": "code",
   "execution_count": 123,
   "metadata": {},
   "outputs": [
    {
     "data": {
      "text/html": [
       "<div>\n",
       "<style scoped>\n",
       "    .dataframe tbody tr th:only-of-type {\n",
       "        vertical-align: middle;\n",
       "    }\n",
       "\n",
       "    .dataframe tbody tr th {\n",
       "        vertical-align: top;\n",
       "    }\n",
       "\n",
       "    .dataframe thead th {\n",
       "        text-align: right;\n",
       "    }\n",
       "</style>\n",
       "<table border=\"1\" class=\"dataframe\">\n",
       "  <thead>\n",
       "    <tr style=\"text-align: right;\">\n",
       "      <th></th>\n",
       "      <th>ada lovelace</th>\n",
       "      <th>cats dogs</th>\n",
       "      <th>dogs friends</th>\n",
       "      <th>grew new</th>\n",
       "      <th>lovelace united</th>\n",
       "      <th>new york</th>\n",
       "      <th>united kingdom</th>\n",
       "    </tr>\n",
       "  </thead>\n",
       "  <tbody>\n",
       "    <tr>\n",
       "      <th>0</th>\n",
       "      <td>0</td>\n",
       "      <td>0</td>\n",
       "      <td>0</td>\n",
       "      <td>1</td>\n",
       "      <td>0</td>\n",
       "      <td>1</td>\n",
       "      <td>0</td>\n",
       "    </tr>\n",
       "    <tr>\n",
       "      <th>1</th>\n",
       "      <td>1</td>\n",
       "      <td>0</td>\n",
       "      <td>0</td>\n",
       "      <td>0</td>\n",
       "      <td>1</td>\n",
       "      <td>0</td>\n",
       "      <td>1</td>\n",
       "    </tr>\n",
       "    <tr>\n",
       "      <th>2</th>\n",
       "      <td>0</td>\n",
       "      <td>1</td>\n",
       "      <td>1</td>\n",
       "      <td>0</td>\n",
       "      <td>0</td>\n",
       "      <td>0</td>\n",
       "      <td>0</td>\n",
       "    </tr>\n",
       "  </tbody>\n",
       "</table>\n",
       "</div>"
      ],
      "text/plain": [
       "   ada lovelace  cats dogs  dogs friends  grew new  lovelace united  new york  \\\n",
       "0             0          0             0         1                0         1   \n",
       "1             1          0             0         0                1         0   \n",
       "2             0          1             1         0                0         0   \n",
       "\n",
       "   united kingdom  \n",
       "0               0  \n",
       "1               1  \n",
       "2               0  "
      ]
     },
     "metadata": {},
     "output_type": "display_data"
    }
   ],
   "source": [
    "from sklearn.feature_extraction.text import CountVectorizer\n",
    "\n",
    "sentences = [\n",
    "    \"I grew up in New York\",\n",
    "    \"Ada Lovelace was from the United Kingdom\",\n",
    "    \"Cats and dogs can be friends\"\n",
    "]\n",
    "\n",
    "vectorizer = CountVectorizer(\n",
    "    lowercase=True,\n",
    "    stop_words='english',\n",
    "    ngram_range=(2,2) # <- retain bigrams (alone) after stopword removal\n",
    ")\n",
    "\n",
    "features = vectorizer.fit_transform(sentences).todense()\n",
    "\n",
    "# Get feature names in order\n",
    "cols = [item[0] for item in sorted(vectorizer.vocabulary_.items(), key=lambda x: x[1])]\n",
    "\n",
    "# Create a dataframe for easy display\n",
    "df = pd.DataFrame(features, columns=cols)\n",
    "display(df)"
   ]
  },
  {
   "cell_type": "markdown",
   "metadata": {},
   "source": [
    "* Note that we've removed stopwords and retained bigrams (2-grams) only\n",
    "* We could also retain any range of *n*-grams, including unigrams\n",
    "    * In fact, `CountVectorizer` by default uses `ngram_range=(1,1)`\n",
    "* Bigrams can feel like they capture people, places, and other named entities or noun phrases, but there are better ways to accomplish those specific tasks\n",
    "* Still, *n*-grams can be useful features\n",
    "    * Unlike the NLP-derived features discussed below -- which generally reduce the dimensionality of our data -- using*n*-gram features tends to increase dimensionality\n",
    "    * Beware rapidly expanding feature matrices, especially with *n*>2\n"
   ]
  },
  {
   "cell_type": "markdown",
   "metadata": {},
   "source": [
    "# Classic NLP tasks with `spaCy`\n",
    "\n",
    "* **Lemmatization, part of speech tagging, named entity recognition, noun phrase detection, dependency parsing**, etc.\n",
    "* Pretty much all of these involve using text sequence information and hand-labeled training data to learn how to predict the class to which a token belongs\n",
    "    * By \"text sequence information,\" we mean that for each token in order as we move through a text, we look at one or more tokens before or after that token in order to infer things about it\n",
    "    * In general, we are trying to produce the label with the maximum likelihood, given what we know about the labels of the tokens around our target token\n",
    "* NLP is a big subject\n",
    "    * In the near term, see [Jurafsky and Martin](https://web.stanford.edu/~jurafsky/slp3/) as assigned for today\n",
    "    * In the longer run, consider taking a class with Claire Cardie (CS/IS) or another of the [Cornell NLP faculty members](https://nlp.cornell.edu/people/)\n",
    "* Several packages to accomplish many NLP tasks. Two widely used ones for Python:\n",
    "    * NLTK (Natural Language ToolKit) is a classic in Python\n",
    "        * We used its sentence splitting and word tokenization features earlier in the course\n",
    "        * Pros: easy, pythonic\n",
    "        * Cons: slow, not state-of-the-art performance\n",
    "    * SpaCy\n",
    "        * Newer, neural-network based\n",
    "        * Good speed and performance\n",
    "        * Pretty easy to use\n",
    "      \n",
    "### Install `spaCy` and associated data\n",
    "\n",
    "Only need to do this once for your installation, not every (subsequent) time you use the library."
   ]
  },
  {
   "cell_type": "code",
   "execution_count": 3,
   "metadata": {},
   "outputs": [
    {
     "name": "stdout",
     "output_type": "stream",
     "text": [
      "Collecting package metadata (current_repodata.json): done\n",
      "Solving environment: done\n",
      "\n",
      "# All requested packages already installed.\n",
      "\n",
      "Requirement already satisfied: en_core_web_sm==2.3.1 from https://github.com/explosion/spacy-models/releases/download/en_core_web_sm-2.3.1/en_core_web_sm-2.3.1.tar.gz#egg=en_core_web_sm==2.3.1 in /Users/mwilkens/anaconda3/envs/teach/lib/python3.8/site-packages (2.3.1)\n",
      "Requirement already satisfied: spacy<2.4.0,>=2.3.0 in /Users/mwilkens/anaconda3/envs/teach/lib/python3.8/site-packages (from en_core_web_sm==2.3.1) (2.3.2)\n",
      "Requirement already satisfied: wasabi<1.1.0,>=0.4.0 in /Users/mwilkens/anaconda3/envs/teach/lib/python3.8/site-packages (from spacy<2.4.0,>=2.3.0->en_core_web_sm==2.3.1) (0.8.0)\n",
      "Requirement already satisfied: tqdm<5.0.0,>=4.38.0 in /Users/mwilkens/anaconda3/envs/teach/lib/python3.8/site-packages (from spacy<2.4.0,>=2.3.0->en_core_web_sm==2.3.1) (4.47.0)\n",
      "Requirement already satisfied: plac<1.2.0,>=0.9.6 in /Users/mwilkens/anaconda3/envs/teach/lib/python3.8/site-packages (from spacy<2.4.0,>=2.3.0->en_core_web_sm==2.3.1) (0.9.6)\n",
      "Requirement already satisfied: murmurhash<1.1.0,>=0.28.0 in /Users/mwilkens/anaconda3/envs/teach/lib/python3.8/site-packages (from spacy<2.4.0,>=2.3.0->en_core_web_sm==2.3.1) (1.0.2)\n",
      "Requirement already satisfied: srsly<1.1.0,>=1.0.2 in /Users/mwilkens/anaconda3/envs/teach/lib/python3.8/site-packages (from spacy<2.4.0,>=2.3.0->en_core_web_sm==2.3.1) (1.0.2)\n",
      "Requirement already satisfied: catalogue<1.1.0,>=0.0.7 in /Users/mwilkens/anaconda3/envs/teach/lib/python3.8/site-packages (from spacy<2.4.0,>=2.3.0->en_core_web_sm==2.3.1) (1.0.0)\n",
      "Requirement already satisfied: thinc==7.4.1 in /Users/mwilkens/anaconda3/envs/teach/lib/python3.8/site-packages (from spacy<2.4.0,>=2.3.0->en_core_web_sm==2.3.1) (7.4.1)\n",
      "Requirement already satisfied: preshed<3.1.0,>=3.0.2 in /Users/mwilkens/anaconda3/envs/teach/lib/python3.8/site-packages (from spacy<2.4.0,>=2.3.0->en_core_web_sm==2.3.1) (3.0.2)\n",
      "Requirement already satisfied: numpy>=1.15.0 in /Users/mwilkens/anaconda3/envs/teach/lib/python3.8/site-packages (from spacy<2.4.0,>=2.3.0->en_core_web_sm==2.3.1) (1.18.5)\n",
      "Requirement already satisfied: blis<0.5.0,>=0.4.0 in /Users/mwilkens/anaconda3/envs/teach/lib/python3.8/site-packages (from spacy<2.4.0,>=2.3.0->en_core_web_sm==2.3.1) (0.4.1)\n",
      "Requirement already satisfied: requests<3.0.0,>=2.13.0 in /Users/mwilkens/anaconda3/envs/teach/lib/python3.8/site-packages (from spacy<2.4.0,>=2.3.0->en_core_web_sm==2.3.1) (2.24.0)\n",
      "Requirement already satisfied: setuptools in /Users/mwilkens/anaconda3/envs/teach/lib/python3.8/site-packages (from spacy<2.4.0,>=2.3.0->en_core_web_sm==2.3.1) (49.2.0.post20200714)\n",
      "Requirement already satisfied: cymem<2.1.0,>=2.0.2 in /Users/mwilkens/anaconda3/envs/teach/lib/python3.8/site-packages (from spacy<2.4.0,>=2.3.0->en_core_web_sm==2.3.1) (2.0.3)\n",
      "Requirement already satisfied: certifi>=2017.4.17 in /Users/mwilkens/anaconda3/envs/teach/lib/python3.8/site-packages (from requests<3.0.0,>=2.13.0->spacy<2.4.0,>=2.3.0->en_core_web_sm==2.3.1) (2020.6.20)\n",
      "Requirement already satisfied: urllib3!=1.25.0,!=1.25.1,<1.26,>=1.21.1 in /Users/mwilkens/anaconda3/envs/teach/lib/python3.8/site-packages (from requests<3.0.0,>=2.13.0->spacy<2.4.0,>=2.3.0->en_core_web_sm==2.3.1) (1.25.9)\n",
      "Requirement already satisfied: idna<3,>=2.5 in /Users/mwilkens/anaconda3/envs/teach/lib/python3.8/site-packages (from requests<3.0.0,>=2.13.0->spacy<2.4.0,>=2.3.0->en_core_web_sm==2.3.1) (2.10)\n",
      "Requirement already satisfied: chardet<4,>=3.0.2 in /Users/mwilkens/anaconda3/envs/teach/lib/python3.8/site-packages (from requests<3.0.0,>=2.13.0->spacy<2.4.0,>=2.3.0->en_core_web_sm==2.3.1) (3.0.4)\n",
      "\u001b[38;5;2m✔ Download and installation successful\u001b[0m\n",
      "You can now load the model via spacy.load('en_core_web_sm')\n"
     ]
    }
   ],
   "source": [
    "# Install spaCy\n",
    "!conda install -c conda-forge spacy spacy-lookups-data -y\n",
    "!python -m spacy download en_core_web_sm"
   ]
  },
  {
   "cell_type": "markdown",
   "metadata": {},
   "source": [
    "### Some NLP basics"
   ]
  },
  {
   "cell_type": "code",
   "execution_count": 89,
   "metadata": {},
   "outputs": [
    {
     "name": "stdout",
     "output_type": "stream",
     "text": [
      "Cornell is a private, Ivy League university and the land-grant university for New York state.\n",
      "<class 'spacy.tokens.doc.Doc'>\n",
      "Cornell\n",
      "is\n",
      "a\n",
      "private\n",
      ",\n",
      "Ivy\n",
      "League\n",
      "university\n",
      "and\n",
      "the\n",
      "land\n",
      "-\n",
      "grant\n",
      "university\n",
      "for\n",
      "New\n",
      "York\n",
      "state\n",
      ".\n"
     ]
    }
   ],
   "source": [
    "# Imports\n",
    "import spacy\n",
    "\n",
    "# Load spaCy model\n",
    "nlp = spacy.load('en_core_web_sm')\n",
    "\n",
    "# Sample sentence\n",
    "cornell = 'Cornell is a private, Ivy League university and the land-grant university for New York state.'\n",
    "\n",
    "# Process the document\n",
    "doc = nlp(cornell)\n",
    "\n",
    "# Examine the processed document\n",
    "print(doc)\n",
    "print(type(doc))\n",
    "for token in doc:\n",
    "    print(token.text)"
   ]
  },
  {
   "cell_type": "markdown",
   "metadata": {},
   "source": [
    "#### Tokens, POS tags, dependency\n",
    "\n",
    "Note that SpaCy's model gives us tokens (among other things), each of which has properties attached to it. So, if we want to know what a token is (that is, what it's text is), we refer to `token.text` (assuming our token is stored in a variable named `token`). If we want its part of speech, that's `token.pos_`. Its lemma: `token.lemma_`.\n",
    "\n",
    "Note that these POS tags are a reduced set (called UPOS). If you want the full Penn Treebank tagset, see the example below."
   ]
  },
  {
   "cell_type": "code",
   "execution_count": 84,
   "metadata": {},
   "outputs": [
    {
     "name": "stdout",
     "output_type": "stream",
     "text": [
      "     Cornell       PROPN       nsubj\n",
      "          is         AUX        ROOT\n",
      "           a         DET         det\n",
      "     private         ADJ        amod\n",
      "           ,       PUNCT       punct\n",
      "         Ivy       PROPN    compound\n",
      "      League       PROPN    compound\n",
      "  university        NOUN        attr\n",
      "         and       CCONJ          cc\n",
      "         the         DET         det\n",
      "        land        NOUN    compound\n",
      "           -       PUNCT       punct\n",
      "       grant        NOUN    compound\n",
      "  university        NOUN        conj\n",
      "         for         ADP        prep\n",
      "         New       PROPN    compound\n",
      "        York       PROPN    compound\n",
      "       state        NOUN        pobj\n",
      "           .       PUNCT       punct\n"
     ]
    }
   ],
   "source": [
    "# Print tokens, POS tags, and dependency info\n",
    "fmt = \"{:>12}\"*3\n",
    "for token in doc:\n",
    "    print(fmt.format(token.text, token.pos_, token.dep_))"
   ]
  },
  {
   "cell_type": "code",
   "execution_count": 29,
   "metadata": {},
   "outputs": [
    {
     "data": {
      "text/html": [
       "<span class=\"tex2jax_ignore\"><svg xmlns=\"http://www.w3.org/2000/svg\" xmlns:xlink=\"http://www.w3.org/1999/xlink\" xml:lang=\"en\" id=\"8cf0a3a1c7454ba68fcafdc0b8b19662-0\" class=\"displacy\" width=\"1650\" height=\"337.0\" direction=\"ltr\" style=\"max-width: none; height: 337.0px; color: #000000; background: #ffffff; font-family: Arial; direction: ltr\">\n",
       "<text class=\"displacy-token\" fill=\"currentColor\" text-anchor=\"middle\" y=\"247.0\">\n",
       "    <tspan class=\"displacy-word\" fill=\"currentColor\" x=\"50\">Cornell</tspan>\n",
       "    <tspan class=\"displacy-tag\" dy=\"2em\" fill=\"currentColor\" x=\"50\">PROPN</tspan>\n",
       "</text>\n",
       "\n",
       "<text class=\"displacy-token\" fill=\"currentColor\" text-anchor=\"middle\" y=\"247.0\">\n",
       "    <tspan class=\"displacy-word\" fill=\"currentColor\" x=\"150\">is</tspan>\n",
       "    <tspan class=\"displacy-tag\" dy=\"2em\" fill=\"currentColor\" x=\"150\">AUX</tspan>\n",
       "</text>\n",
       "\n",
       "<text class=\"displacy-token\" fill=\"currentColor\" text-anchor=\"middle\" y=\"247.0\">\n",
       "    <tspan class=\"displacy-word\" fill=\"currentColor\" x=\"250\">a</tspan>\n",
       "    <tspan class=\"displacy-tag\" dy=\"2em\" fill=\"currentColor\" x=\"250\">DET</tspan>\n",
       "</text>\n",
       "\n",
       "<text class=\"displacy-token\" fill=\"currentColor\" text-anchor=\"middle\" y=\"247.0\">\n",
       "    <tspan class=\"displacy-word\" fill=\"currentColor\" x=\"350\">private,</tspan>\n",
       "    <tspan class=\"displacy-tag\" dy=\"2em\" fill=\"currentColor\" x=\"350\">ADJ</tspan>\n",
       "</text>\n",
       "\n",
       "<text class=\"displacy-token\" fill=\"currentColor\" text-anchor=\"middle\" y=\"247.0\">\n",
       "    <tspan class=\"displacy-word\" fill=\"currentColor\" x=\"450\">Ivy</tspan>\n",
       "    <tspan class=\"displacy-tag\" dy=\"2em\" fill=\"currentColor\" x=\"450\">PROPN</tspan>\n",
       "</text>\n",
       "\n",
       "<text class=\"displacy-token\" fill=\"currentColor\" text-anchor=\"middle\" y=\"247.0\">\n",
       "    <tspan class=\"displacy-word\" fill=\"currentColor\" x=\"550\">League</tspan>\n",
       "    <tspan class=\"displacy-tag\" dy=\"2em\" fill=\"currentColor\" x=\"550\">PROPN</tspan>\n",
       "</text>\n",
       "\n",
       "<text class=\"displacy-token\" fill=\"currentColor\" text-anchor=\"middle\" y=\"247.0\">\n",
       "    <tspan class=\"displacy-word\" fill=\"currentColor\" x=\"650\">university</tspan>\n",
       "    <tspan class=\"displacy-tag\" dy=\"2em\" fill=\"currentColor\" x=\"650\">NOUN</tspan>\n",
       "</text>\n",
       "\n",
       "<text class=\"displacy-token\" fill=\"currentColor\" text-anchor=\"middle\" y=\"247.0\">\n",
       "    <tspan class=\"displacy-word\" fill=\"currentColor\" x=\"750\">and</tspan>\n",
       "    <tspan class=\"displacy-tag\" dy=\"2em\" fill=\"currentColor\" x=\"750\">CCONJ</tspan>\n",
       "</text>\n",
       "\n",
       "<text class=\"displacy-token\" fill=\"currentColor\" text-anchor=\"middle\" y=\"247.0\">\n",
       "    <tspan class=\"displacy-word\" fill=\"currentColor\" x=\"850\">the</tspan>\n",
       "    <tspan class=\"displacy-tag\" dy=\"2em\" fill=\"currentColor\" x=\"850\">DET</tspan>\n",
       "</text>\n",
       "\n",
       "<text class=\"displacy-token\" fill=\"currentColor\" text-anchor=\"middle\" y=\"247.0\">\n",
       "    <tspan class=\"displacy-word\" fill=\"currentColor\" x=\"950\">land-</tspan>\n",
       "    <tspan class=\"displacy-tag\" dy=\"2em\" fill=\"currentColor\" x=\"950\">NOUN</tspan>\n",
       "</text>\n",
       "\n",
       "<text class=\"displacy-token\" fill=\"currentColor\" text-anchor=\"middle\" y=\"247.0\">\n",
       "    <tspan class=\"displacy-word\" fill=\"currentColor\" x=\"1050\">grant</tspan>\n",
       "    <tspan class=\"displacy-tag\" dy=\"2em\" fill=\"currentColor\" x=\"1050\">NOUN</tspan>\n",
       "</text>\n",
       "\n",
       "<text class=\"displacy-token\" fill=\"currentColor\" text-anchor=\"middle\" y=\"247.0\">\n",
       "    <tspan class=\"displacy-word\" fill=\"currentColor\" x=\"1150\">university</tspan>\n",
       "    <tspan class=\"displacy-tag\" dy=\"2em\" fill=\"currentColor\" x=\"1150\">NOUN</tspan>\n",
       "</text>\n",
       "\n",
       "<text class=\"displacy-token\" fill=\"currentColor\" text-anchor=\"middle\" y=\"247.0\">\n",
       "    <tspan class=\"displacy-word\" fill=\"currentColor\" x=\"1250\">for</tspan>\n",
       "    <tspan class=\"displacy-tag\" dy=\"2em\" fill=\"currentColor\" x=\"1250\">ADP</tspan>\n",
       "</text>\n",
       "\n",
       "<text class=\"displacy-token\" fill=\"currentColor\" text-anchor=\"middle\" y=\"247.0\">\n",
       "    <tspan class=\"displacy-word\" fill=\"currentColor\" x=\"1350\">New</tspan>\n",
       "    <tspan class=\"displacy-tag\" dy=\"2em\" fill=\"currentColor\" x=\"1350\">PROPN</tspan>\n",
       "</text>\n",
       "\n",
       "<text class=\"displacy-token\" fill=\"currentColor\" text-anchor=\"middle\" y=\"247.0\">\n",
       "    <tspan class=\"displacy-word\" fill=\"currentColor\" x=\"1450\">York</tspan>\n",
       "    <tspan class=\"displacy-tag\" dy=\"2em\" fill=\"currentColor\" x=\"1450\">PROPN</tspan>\n",
       "</text>\n",
       "\n",
       "<text class=\"displacy-token\" fill=\"currentColor\" text-anchor=\"middle\" y=\"247.0\">\n",
       "    <tspan class=\"displacy-word\" fill=\"currentColor\" x=\"1550\">state.</tspan>\n",
       "    <tspan class=\"displacy-tag\" dy=\"2em\" fill=\"currentColor\" x=\"1550\">NOUN</tspan>\n",
       "</text>\n",
       "\n",
       "<g class=\"displacy-arrow\">\n",
       "    <path class=\"displacy-arc\" id=\"arrow-8cf0a3a1c7454ba68fcafdc0b8b19662-0-0\" stroke-width=\"2px\" d=\"M70,202.0 C70,152.0 135.0,152.0 135.0,202.0\" fill=\"none\" stroke=\"currentColor\"/>\n",
       "    <text dy=\"1.25em\" style=\"font-size: 0.8em; letter-spacing: 1px\">\n",
       "        <textPath xlink:href=\"#arrow-8cf0a3a1c7454ba68fcafdc0b8b19662-0-0\" class=\"displacy-label\" startOffset=\"50%\" side=\"left\" fill=\"currentColor\" text-anchor=\"middle\">nsubj</textPath>\n",
       "    </text>\n",
       "    <path class=\"displacy-arrowhead\" d=\"M70,204.0 L62,192.0 78,192.0\" fill=\"currentColor\"/>\n",
       "</g>\n",
       "\n",
       "<g class=\"displacy-arrow\">\n",
       "    <path class=\"displacy-arc\" id=\"arrow-8cf0a3a1c7454ba68fcafdc0b8b19662-0-1\" stroke-width=\"2px\" d=\"M270,202.0 C270,52.0 645.0,52.0 645.0,202.0\" fill=\"none\" stroke=\"currentColor\"/>\n",
       "    <text dy=\"1.25em\" style=\"font-size: 0.8em; letter-spacing: 1px\">\n",
       "        <textPath xlink:href=\"#arrow-8cf0a3a1c7454ba68fcafdc0b8b19662-0-1\" class=\"displacy-label\" startOffset=\"50%\" side=\"left\" fill=\"currentColor\" text-anchor=\"middle\">det</textPath>\n",
       "    </text>\n",
       "    <path class=\"displacy-arrowhead\" d=\"M270,204.0 L262,192.0 278,192.0\" fill=\"currentColor\"/>\n",
       "</g>\n",
       "\n",
       "<g class=\"displacy-arrow\">\n",
       "    <path class=\"displacy-arc\" id=\"arrow-8cf0a3a1c7454ba68fcafdc0b8b19662-0-2\" stroke-width=\"2px\" d=\"M370,202.0 C370,102.0 640.0,102.0 640.0,202.0\" fill=\"none\" stroke=\"currentColor\"/>\n",
       "    <text dy=\"1.25em\" style=\"font-size: 0.8em; letter-spacing: 1px\">\n",
       "        <textPath xlink:href=\"#arrow-8cf0a3a1c7454ba68fcafdc0b8b19662-0-2\" class=\"displacy-label\" startOffset=\"50%\" side=\"left\" fill=\"currentColor\" text-anchor=\"middle\">amod</textPath>\n",
       "    </text>\n",
       "    <path class=\"displacy-arrowhead\" d=\"M370,204.0 L362,192.0 378,192.0\" fill=\"currentColor\"/>\n",
       "</g>\n",
       "\n",
       "<g class=\"displacy-arrow\">\n",
       "    <path class=\"displacy-arc\" id=\"arrow-8cf0a3a1c7454ba68fcafdc0b8b19662-0-3\" stroke-width=\"2px\" d=\"M470,202.0 C470,152.0 535.0,152.0 535.0,202.0\" fill=\"none\" stroke=\"currentColor\"/>\n",
       "    <text dy=\"1.25em\" style=\"font-size: 0.8em; letter-spacing: 1px\">\n",
       "        <textPath xlink:href=\"#arrow-8cf0a3a1c7454ba68fcafdc0b8b19662-0-3\" class=\"displacy-label\" startOffset=\"50%\" side=\"left\" fill=\"currentColor\" text-anchor=\"middle\">compound</textPath>\n",
       "    </text>\n",
       "    <path class=\"displacy-arrowhead\" d=\"M470,204.0 L462,192.0 478,192.0\" fill=\"currentColor\"/>\n",
       "</g>\n",
       "\n",
       "<g class=\"displacy-arrow\">\n",
       "    <path class=\"displacy-arc\" id=\"arrow-8cf0a3a1c7454ba68fcafdc0b8b19662-0-4\" stroke-width=\"2px\" d=\"M570,202.0 C570,152.0 635.0,152.0 635.0,202.0\" fill=\"none\" stroke=\"currentColor\"/>\n",
       "    <text dy=\"1.25em\" style=\"font-size: 0.8em; letter-spacing: 1px\">\n",
       "        <textPath xlink:href=\"#arrow-8cf0a3a1c7454ba68fcafdc0b8b19662-0-4\" class=\"displacy-label\" startOffset=\"50%\" side=\"left\" fill=\"currentColor\" text-anchor=\"middle\">compound</textPath>\n",
       "    </text>\n",
       "    <path class=\"displacy-arrowhead\" d=\"M570,204.0 L562,192.0 578,192.0\" fill=\"currentColor\"/>\n",
       "</g>\n",
       "\n",
       "<g class=\"displacy-arrow\">\n",
       "    <path class=\"displacy-arc\" id=\"arrow-8cf0a3a1c7454ba68fcafdc0b8b19662-0-5\" stroke-width=\"2px\" d=\"M170,202.0 C170,2.0 650.0,2.0 650.0,202.0\" fill=\"none\" stroke=\"currentColor\"/>\n",
       "    <text dy=\"1.25em\" style=\"font-size: 0.8em; letter-spacing: 1px\">\n",
       "        <textPath xlink:href=\"#arrow-8cf0a3a1c7454ba68fcafdc0b8b19662-0-5\" class=\"displacy-label\" startOffset=\"50%\" side=\"left\" fill=\"currentColor\" text-anchor=\"middle\">attr</textPath>\n",
       "    </text>\n",
       "    <path class=\"displacy-arrowhead\" d=\"M650.0,204.0 L658.0,192.0 642.0,192.0\" fill=\"currentColor\"/>\n",
       "</g>\n",
       "\n",
       "<g class=\"displacy-arrow\">\n",
       "    <path class=\"displacy-arc\" id=\"arrow-8cf0a3a1c7454ba68fcafdc0b8b19662-0-6\" stroke-width=\"2px\" d=\"M670,202.0 C670,152.0 735.0,152.0 735.0,202.0\" fill=\"none\" stroke=\"currentColor\"/>\n",
       "    <text dy=\"1.25em\" style=\"font-size: 0.8em; letter-spacing: 1px\">\n",
       "        <textPath xlink:href=\"#arrow-8cf0a3a1c7454ba68fcafdc0b8b19662-0-6\" class=\"displacy-label\" startOffset=\"50%\" side=\"left\" fill=\"currentColor\" text-anchor=\"middle\">cc</textPath>\n",
       "    </text>\n",
       "    <path class=\"displacy-arrowhead\" d=\"M735.0,204.0 L743.0,192.0 727.0,192.0\" fill=\"currentColor\"/>\n",
       "</g>\n",
       "\n",
       "<g class=\"displacy-arrow\">\n",
       "    <path class=\"displacy-arc\" id=\"arrow-8cf0a3a1c7454ba68fcafdc0b8b19662-0-7\" stroke-width=\"2px\" d=\"M870,202.0 C870,102.0 1140.0,102.0 1140.0,202.0\" fill=\"none\" stroke=\"currentColor\"/>\n",
       "    <text dy=\"1.25em\" style=\"font-size: 0.8em; letter-spacing: 1px\">\n",
       "        <textPath xlink:href=\"#arrow-8cf0a3a1c7454ba68fcafdc0b8b19662-0-7\" class=\"displacy-label\" startOffset=\"50%\" side=\"left\" fill=\"currentColor\" text-anchor=\"middle\">det</textPath>\n",
       "    </text>\n",
       "    <path class=\"displacy-arrowhead\" d=\"M870,204.0 L862,192.0 878,192.0\" fill=\"currentColor\"/>\n",
       "</g>\n",
       "\n",
       "<g class=\"displacy-arrow\">\n",
       "    <path class=\"displacy-arc\" id=\"arrow-8cf0a3a1c7454ba68fcafdc0b8b19662-0-8\" stroke-width=\"2px\" d=\"M970,202.0 C970,152.0 1035.0,152.0 1035.0,202.0\" fill=\"none\" stroke=\"currentColor\"/>\n",
       "    <text dy=\"1.25em\" style=\"font-size: 0.8em; letter-spacing: 1px\">\n",
       "        <textPath xlink:href=\"#arrow-8cf0a3a1c7454ba68fcafdc0b8b19662-0-8\" class=\"displacy-label\" startOffset=\"50%\" side=\"left\" fill=\"currentColor\" text-anchor=\"middle\">compound</textPath>\n",
       "    </text>\n",
       "    <path class=\"displacy-arrowhead\" d=\"M970,204.0 L962,192.0 978,192.0\" fill=\"currentColor\"/>\n",
       "</g>\n",
       "\n",
       "<g class=\"displacy-arrow\">\n",
       "    <path class=\"displacy-arc\" id=\"arrow-8cf0a3a1c7454ba68fcafdc0b8b19662-0-9\" stroke-width=\"2px\" d=\"M1070,202.0 C1070,152.0 1135.0,152.0 1135.0,202.0\" fill=\"none\" stroke=\"currentColor\"/>\n",
       "    <text dy=\"1.25em\" style=\"font-size: 0.8em; letter-spacing: 1px\">\n",
       "        <textPath xlink:href=\"#arrow-8cf0a3a1c7454ba68fcafdc0b8b19662-0-9\" class=\"displacy-label\" startOffset=\"50%\" side=\"left\" fill=\"currentColor\" text-anchor=\"middle\">compound</textPath>\n",
       "    </text>\n",
       "    <path class=\"displacy-arrowhead\" d=\"M1070,204.0 L1062,192.0 1078,192.0\" fill=\"currentColor\"/>\n",
       "</g>\n",
       "\n",
       "<g class=\"displacy-arrow\">\n",
       "    <path class=\"displacy-arc\" id=\"arrow-8cf0a3a1c7454ba68fcafdc0b8b19662-0-10\" stroke-width=\"2px\" d=\"M670,202.0 C670,2.0 1150.0,2.0 1150.0,202.0\" fill=\"none\" stroke=\"currentColor\"/>\n",
       "    <text dy=\"1.25em\" style=\"font-size: 0.8em; letter-spacing: 1px\">\n",
       "        <textPath xlink:href=\"#arrow-8cf0a3a1c7454ba68fcafdc0b8b19662-0-10\" class=\"displacy-label\" startOffset=\"50%\" side=\"left\" fill=\"currentColor\" text-anchor=\"middle\">conj</textPath>\n",
       "    </text>\n",
       "    <path class=\"displacy-arrowhead\" d=\"M1150.0,204.0 L1158.0,192.0 1142.0,192.0\" fill=\"currentColor\"/>\n",
       "</g>\n",
       "\n",
       "<g class=\"displacy-arrow\">\n",
       "    <path class=\"displacy-arc\" id=\"arrow-8cf0a3a1c7454ba68fcafdc0b8b19662-0-11\" stroke-width=\"2px\" d=\"M1170,202.0 C1170,152.0 1235.0,152.0 1235.0,202.0\" fill=\"none\" stroke=\"currentColor\"/>\n",
       "    <text dy=\"1.25em\" style=\"font-size: 0.8em; letter-spacing: 1px\">\n",
       "        <textPath xlink:href=\"#arrow-8cf0a3a1c7454ba68fcafdc0b8b19662-0-11\" class=\"displacy-label\" startOffset=\"50%\" side=\"left\" fill=\"currentColor\" text-anchor=\"middle\">prep</textPath>\n",
       "    </text>\n",
       "    <path class=\"displacy-arrowhead\" d=\"M1235.0,204.0 L1243.0,192.0 1227.0,192.0\" fill=\"currentColor\"/>\n",
       "</g>\n",
       "\n",
       "<g class=\"displacy-arrow\">\n",
       "    <path class=\"displacy-arc\" id=\"arrow-8cf0a3a1c7454ba68fcafdc0b8b19662-0-12\" stroke-width=\"2px\" d=\"M1370,202.0 C1370,152.0 1435.0,152.0 1435.0,202.0\" fill=\"none\" stroke=\"currentColor\"/>\n",
       "    <text dy=\"1.25em\" style=\"font-size: 0.8em; letter-spacing: 1px\">\n",
       "        <textPath xlink:href=\"#arrow-8cf0a3a1c7454ba68fcafdc0b8b19662-0-12\" class=\"displacy-label\" startOffset=\"50%\" side=\"left\" fill=\"currentColor\" text-anchor=\"middle\">compound</textPath>\n",
       "    </text>\n",
       "    <path class=\"displacy-arrowhead\" d=\"M1370,204.0 L1362,192.0 1378,192.0\" fill=\"currentColor\"/>\n",
       "</g>\n",
       "\n",
       "<g class=\"displacy-arrow\">\n",
       "    <path class=\"displacy-arc\" id=\"arrow-8cf0a3a1c7454ba68fcafdc0b8b19662-0-13\" stroke-width=\"2px\" d=\"M1470,202.0 C1470,152.0 1535.0,152.0 1535.0,202.0\" fill=\"none\" stroke=\"currentColor\"/>\n",
       "    <text dy=\"1.25em\" style=\"font-size: 0.8em; letter-spacing: 1px\">\n",
       "        <textPath xlink:href=\"#arrow-8cf0a3a1c7454ba68fcafdc0b8b19662-0-13\" class=\"displacy-label\" startOffset=\"50%\" side=\"left\" fill=\"currentColor\" text-anchor=\"middle\">compound</textPath>\n",
       "    </text>\n",
       "    <path class=\"displacy-arrowhead\" d=\"M1470,204.0 L1462,192.0 1478,192.0\" fill=\"currentColor\"/>\n",
       "</g>\n",
       "\n",
       "<g class=\"displacy-arrow\">\n",
       "    <path class=\"displacy-arc\" id=\"arrow-8cf0a3a1c7454ba68fcafdc0b8b19662-0-14\" stroke-width=\"2px\" d=\"M1270,202.0 C1270,102.0 1540.0,102.0 1540.0,202.0\" fill=\"none\" stroke=\"currentColor\"/>\n",
       "    <text dy=\"1.25em\" style=\"font-size: 0.8em; letter-spacing: 1px\">\n",
       "        <textPath xlink:href=\"#arrow-8cf0a3a1c7454ba68fcafdc0b8b19662-0-14\" class=\"displacy-label\" startOffset=\"50%\" side=\"left\" fill=\"currentColor\" text-anchor=\"middle\">pobj</textPath>\n",
       "    </text>\n",
       "    <path class=\"displacy-arrowhead\" d=\"M1540.0,204.0 L1548.0,192.0 1532.0,192.0\" fill=\"currentColor\"/>\n",
       "</g>\n",
       "</svg></span>"
      ],
      "text/plain": [
       "<IPython.core.display.HTML object>"
      ]
     },
     "metadata": {},
     "output_type": "display_data"
    }
   ],
   "source": [
    "# Visualize dependency\n",
    "from spacy import displacy\n",
    "displacy.render(doc, style='dep', options={'distance':100}) # Dependency parse"
   ]
  },
  {
   "cell_type": "markdown",
   "metadata": {},
   "source": [
    "#### Lemmas and Penn Treebank POS tags"
   ]
  },
  {
   "cell_type": "code",
   "execution_count": 19,
   "metadata": {},
   "outputs": [
    {
     "name": "stdout",
     "output_type": "stream",
     "text": [
      "     Cornell         NNP     Cornell\n",
      "          is         VBZ          be\n",
      "           a          DT           a\n",
      "     private          JJ     private\n",
      "           ,           ,           ,\n",
      "         Ivy         NNP         Ivy\n",
      "      League         NNP      League\n",
      "  university          NN  university\n",
      "         and          CC         and\n",
      "         the          DT         the\n",
      "        land          NN        land\n",
      "           -        HYPH           -\n",
      "       grant          NN       grant\n",
      "  university          NN  university\n",
      "         for          IN         for\n",
      "         New         NNP         New\n",
      "        York         NNP        York\n",
      "       state          NN       state\n",
      "           .           .           .\n"
     ]
    }
   ],
   "source": [
    "# Gets lemmas and Penn POS tags\n",
    "for token in doc:\n",
    "    print(fmt.format(token.text, token.tag_, token.lemma_))"
   ]
  },
  {
   "cell_type": "markdown",
   "metadata": {},
   "source": [
    "Note that lemmatization is a useful preprocessing step during vectorization. Think about how you would write a preprocessing function using `spaCy` that would integrate with an `sklearn` vectorizer via the `preprocessor` option."
   ]
  },
  {
   "cell_type": "markdown",
   "metadata": {},
   "source": [
    "#### Named entities\n",
    "\n",
    "Entities aren't strictly token-level properties, so we don't retrieve them by calls to the proerties of individual tokens. Instead, we iterate over `doc.ents`."
   ]
  },
  {
   "cell_type": "code",
   "execution_count": 32,
   "metadata": {},
   "outputs": [
    {
     "name": "stdout",
     "output_type": "stream",
     "text": [
      "     Cornell         ORG            \n",
      "    New York         GPE            \n"
     ]
    }
   ],
   "source": [
    "# Entities\n",
    "for ent in doc.ents:\n",
    "    print(fmt.format(ent.text, ent.label_, ''))"
   ]
  },
  {
   "cell_type": "markdown",
   "metadata": {},
   "source": [
    "You can see the full set of [named entity types](https://spacy.io/api/annotation#named-entities) in SpaCy's documentation. Briefly, in addition to `ORG`s and `GPE`s, there are also `LOC`ations, `PERSON`s, `DATE`s and `TIME`s, `MONEY`, etc."
   ]
  },
  {
   "cell_type": "code",
   "execution_count": 91,
   "metadata": {},
   "outputs": [
    {
     "data": {
      "text/html": [
       "<span class=\"tex2jax_ignore\"><div class=\"entities\" style=\"line-height: 2.5; direction: ltr\">\n",
       "<mark class=\"entity\" style=\"background: #7aecec; padding: 0.45em 0.6em; margin: 0 0.25em; line-height: 1; border-radius: 0.35em;\">\n",
       "    Cornell\n",
       "    <span style=\"font-size: 0.8em; font-weight: bold; line-height: 1; border-radius: 0.35em; text-transform: uppercase; vertical-align: middle; margin-left: 0.5rem\">ORG</span>\n",
       "</mark>\n",
       " is a private, Ivy League university and the land-grant university for \n",
       "<mark class=\"entity\" style=\"background: #feca74; padding: 0.45em 0.6em; margin: 0 0.25em; line-height: 1; border-radius: 0.35em;\">\n",
       "    New York\n",
       "    <span style=\"font-size: 0.8em; font-weight: bold; line-height: 1; border-radius: 0.35em; text-transform: uppercase; vertical-align: middle; margin-left: 0.5rem\">GPE</span>\n",
       "</mark>\n",
       " state.</div></span>"
      ],
      "text/plain": [
       "<IPython.core.display.HTML object>"
      ]
     },
     "metadata": {},
     "output_type": "display_data"
    }
   ],
   "source": [
    "# Visualize entities in context\n",
    "displacy.render(doc, style='ent') # Entities"
   ]
  },
  {
   "cell_type": "markdown",
   "metadata": {},
   "source": [
    "#### Noun chunks\n",
    "\n",
    "A noun chunk (also called a \"noun phrase\") is one or more of words in sequence that collectively behave like a noun. Typically, they contain a noun plus one or more adjectives and determiners."
   ]
  },
  {
   "cell_type": "code",
   "execution_count": 90,
   "metadata": {},
   "outputs": [
    {
     "name": "stdout",
     "output_type": "stream",
     "text": [
      "Cornell\n",
      "a private, Ivy League university\n",
      "the land-grant university\n",
      "New York state\n"
     ]
    }
   ],
   "source": [
    "# Noun chunks\n",
    "for chunk in doc.noun_chunks:\n",
    "    print(chunk)"
   ]
  },
  {
   "cell_type": "markdown",
   "metadata": {},
   "source": [
    "## Create a feature matrix\n",
    "\n",
    "Let's use these new features as, well, *features* like the token counts produced by `CountVectorizer`."
   ]
  },
  {
   "cell_type": "code",
   "execution_count": 106,
   "metadata": {},
   "outputs": [
    {
     "data": {
      "text/plain": [
       "[defaultdict(int,\n",
       "             {'wordcount': 115,\n",
       "              'Austin__GPE': 1,\n",
       "              'two weeks__DATE': 1,\n",
       "              'American__NORP': 1,\n",
       "              'one__CARDINAL': 1,\n",
       "              'California__GPE': 1,\n",
       "              'the Grand Canyon__LOC': 1,\n",
       "              'ADP': 16,\n",
       "              'PROPN': 4,\n",
       "              'PUNCT': 12,\n",
       "              'PRON': 10,\n",
       "              'VERB': 14,\n",
       "              'ADV': 3,\n",
       "              'NUM': 2,\n",
       "              'NOUN': 17,\n",
       "              'DET': 18,\n",
       "              'ADJ': 5,\n",
       "              'CCONJ': 2,\n",
       "              'AUX': 5,\n",
       "              'SCONJ': 2,\n",
       "              'PART': 4,\n",
       "              'INTJ': 1}),\n",
       " defaultdict(int,\n",
       "             {'wordcount': 126,\n",
       "              'the new millennium__DATE': 1,\n",
       "              'Andrew__PERSON': 1,\n",
       "              'English__LANGUAGE': 2,\n",
       "              'Scott__PERSON': 2,\n",
       "              'American__NORP': 2,\n",
       "              'three__CARDINAL': 1,\n",
       "              'ADP': 11,\n",
       "              'DET': 15,\n",
       "              'NOUN': 27,\n",
       "              'ADJ': 10,\n",
       "              'PUNCT': 23,\n",
       "              'PRON': 8,\n",
       "              'VERB': 11,\n",
       "              'PROPN': 5,\n",
       "              'ADV': 5,\n",
       "              'AUX': 3,\n",
       "              'PART': 1,\n",
       "              'SCONJ': 3,\n",
       "              'CCONJ': 3,\n",
       "              'NUM': 1}),\n",
       " defaultdict(int,\n",
       "             {'wordcount': 114,\n",
       "              'Idaho__GPE': 1,\n",
       "              'winter__DATE': 1,\n",
       "              'Sumner__PERSON': 1,\n",
       "              'first__ORDINAL': 1,\n",
       "              'Fifteen minutes later__TIME': 1,\n",
       "              'PRON': 13,\n",
       "              'VERB': 22,\n",
       "              'ADP': 7,\n",
       "              'PROPN': 2,\n",
       "              'NOUN': 16,\n",
       "              'PART': 7,\n",
       "              'PUNCT': 14,\n",
       "              'DET': 10,\n",
       "              'ADJ': 5,\n",
       "              'AUX': 8,\n",
       "              'CCONJ': 2,\n",
       "              'SCONJ': 2,\n",
       "              'ADV': 5,\n",
       "              'NUM': 1})]"
      ]
     },
     "metadata": {},
     "output_type": "display_data"
    }
   ],
   "source": [
    "# Three tiny love stories from the New York Times\n",
    "\n",
    "from collections import defaultdict\n",
    "\n",
    "stories = {\n",
    "    'burrito':\"\"\"From Austin, we headed west. For two weeks, my best friend and I were on a journey of self-exploration, an adventure through the vast American landscape that would find us in a multicolored haze, and an event that would bond us for life. All of this came about because of one thing: a burrito so good we had to drive to California to get it. If it weren’t for that burrito we wouldn’t have found ourselves in a purple sunset, sitting on the edge of the Grand Canyon with a question that would change our lives forever. She said yes.\"\"\",\n",
    "    'tripod':\"\"\"On the eve of the new millennium, I fell in love with Andrew, a dashing English ad executive. Inconveniently, I didn’t fall out of love with Scott, an American architectural photographer and my longtime partner. Our dilemma resulted in an unexpected and enduring romance: a V-shaped love triangle sans vows and offspring. Born English, now a naturalized American, I am the hinge in our harmonious household of three: I sleep with both men, they each sleep only with me. We share everything else: home, finances, friends, vacations, life-threatening calamities. As Scott says, our tripod is more stable than a bipod.\"\"\",\n",
    "    'skating':\"\"\"I flew to Idaho over winter break to see Sumner’s hometown. Our first night, we went skating on a frozen pond, surrounded by snow. I was nervous. I didn’t play sports growing up, and I hadn’t ice skated since I was a child. He circled the pond, not showing off, simply enjoying the movement. I’ll never forget the stars piercing the darkness and the shadowy outline of the towering mountains. Fifteen minutes later, I realized I had forgotten that I was supposed to learn how to skate; I had just been watching him the whole time.\"\"\"\n",
    "}\n",
    "\n",
    "story_data = []\n",
    "\n",
    "for story in stories:\n",
    "    counts = defaultdict(int)\n",
    "    doc = nlp(stories[story])\n",
    "    counts['wordcount'] = len(doc)\n",
    "    for entity in doc.ents:\n",
    "        counts[entity.text+'__'+entity.label_] += 1\n",
    "    for token in doc:\n",
    "        counts[token.pos_] += 1\n",
    "    story_data.append(counts)\n",
    "\n",
    "display(story_data)"
   ]
  },
  {
   "cell_type": "code",
   "execution_count": 107,
   "metadata": {},
   "outputs": [
    {
     "data": {
      "text/plain": [
       "array([[  5.,  16.,   3.,   5.,   1.,   0.,   1.,   2.,   1.,  18.,   0.,\n",
       "          0.,   1.,   0.,  17.,   2.,   4.,  10.,   4.,  12.,   2.,   0.,\n",
       "          0.,  14.,   0.,   1.,   1.,   0.,   0.,   1.,   0., 115.],\n",
       "       [ 10.,  11.,   5.,   3.,   2.,   1.,   0.,   3.,   0.,  15.,   2.,\n",
       "          0.,   0.,   0.,  27.,   1.,   1.,   8.,   5.,  23.,   3.,   2.,\n",
       "          0.,  11.,   0.,   0.,   0.,   1.,   1.,   0.,   0., 126.],\n",
       "       [  5.,   7.,   5.,   8.,   0.,   0.,   0.,   2.,   0.,  10.,   0.,\n",
       "          1.,   0.,   1.,  16.,   1.,   7.,  13.,   2.,  14.,   2.,   0.,\n",
       "          1.,  22.,   1.,   0.,   0.,   0.,   0.,   0.,   1., 114.]])"
      ]
     },
     "metadata": {},
     "output_type": "display_data"
    },
    {
     "data": {
      "text/plain": [
       "['ADJ',\n",
       " 'ADP',\n",
       " 'ADV',\n",
       " 'AUX',\n",
       " 'American__NORP',\n",
       " 'Andrew__PERSON',\n",
       " 'Austin__GPE',\n",
       " 'CCONJ',\n",
       " 'California__GPE',\n",
       " 'DET',\n",
       " 'English__LANGUAGE',\n",
       " 'Fifteen minutes later__TIME',\n",
       " 'INTJ',\n",
       " 'Idaho__GPE',\n",
       " 'NOUN',\n",
       " 'NUM',\n",
       " 'PART',\n",
       " 'PRON',\n",
       " 'PROPN',\n",
       " 'PUNCT',\n",
       " 'SCONJ',\n",
       " 'Scott__PERSON',\n",
       " 'Sumner__PERSON',\n",
       " 'VERB',\n",
       " 'first__ORDINAL',\n",
       " 'one__CARDINAL',\n",
       " 'the Grand Canyon__LOC',\n",
       " 'the new millennium__DATE',\n",
       " 'three__CARDINAL',\n",
       " 'two weeks__DATE',\n",
       " 'winter__DATE',\n",
       " 'wordcount']"
      ]
     },
     "metadata": {},
     "output_type": "display_data"
    }
   ],
   "source": [
    "from sklearn.feature_extraction import DictVectorizer\n",
    "\n",
    "vectorizer = DictVectorizer(sparse=False)\n",
    "X = vectorizer.fit_transform(story_data)\n",
    "display(X)\n",
    "display(vectorizer.feature_names_)"
   ]
  },
  {
   "cell_type": "code",
   "execution_count": 118,
   "metadata": {},
   "outputs": [
    {
     "data": {
      "text/plain": [
       "array([[1., 1., 0., 1.],\n",
       "       [0., 0., 0., 0.],\n",
       "       [0., 0., 1., 0.]])"
      ]
     },
     "metadata": {},
     "output_type": "display_data"
    },
    {
     "data": {
      "text/plain": [
       "['Austin__GPE', 'California__GPE', 'Idaho__GPE', 'the Grand Canyon__LOC']"
      ]
     },
     "metadata": {},
     "output_type": "display_data"
    }
   ],
   "source": [
    "# Select just the GPEs and LOCs\n",
    "vocab = vectorizer.vocabulary_\n",
    "\n",
    "# Find indices of places in feature matrix\n",
    "# Iterate over feature names, saving index positions for features that have GPE or LOC in their name\n",
    "places = [vocab[feature] for feature in vectorizer.feature_names_ if '__GPE' in feature or '__LOC' in feature]\n",
    "# Get feature names in the desired index positions\n",
    "place_names = [vectorizer.get_feature_names()[place] for place in places]\n",
    "# Restrict feature matrix to desired columns\n",
    "X_place = X[:,places] # <- all rows, columns from list\n",
    "display(X_place)\n",
    "display(place_names)"
   ]
  },
  {
   "cell_type": "markdown",
   "metadata": {},
   "source": [
    "## Mixed features\n",
    "\n",
    "* If we care about these individual features, we can proceed to analyze them (see Wednesday's reading)\n",
    "* If we want to use any of these features (*n*-grams, POS counts, entities, whatever) *instead* of token unigrams as part of another workflow (classification, say), we can do that.\n",
    "    * And we can compare the resulting accuracy to that achieved with unigram counts\n",
    "    * Note that we'll still want to scale features, reduce dimensions, select most-informative features, examine feature importances, and so on\n",
    "    * The point is that these *are features* just like unigram counts\n",
    "        * They may (or may not) behave differently in practice (there are relatively few POS types, for instance, so their counts are often higher than wordcounts), but *as features*, we compute with them in just the same way\n",
    "* Maybe best of all, we can use any of these features, or even non-textual features, *alongside* unigram counts\n",
    "    * We can do this as part of feature engineering for classification\n",
    "        * Task is to find the best mix of features for our classification problem\n",
    "    * Or we can specify the feature mix in advance for unsupervised problems\n",
    "        * As always, for unsupervised tasks, we have to specify in advance the set of maximally relevant features"
   ]
  },
  {
   "cell_type": "markdown",
   "metadata": {},
   "source": [
    "### Side note: stacking arrays\n",
    "\n",
    "To join features from different matrices, you can use `numpy`'s `hstack` method, like so: "
   ]
  },
  {
   "cell_type": "code",
   "execution_count": 8,
   "metadata": {},
   "outputs": [
    {
     "name": "stdout",
     "output_type": "stream",
     "text": [
      "a\n",
      " [[0. 0.]\n",
      " [0. 0.]\n",
      " [0. 0.]]\n",
      "\n",
      "b\n",
      " [[1. 1.]\n",
      " [1. 1.]\n",
      " [1. 1.]]\n",
      "\n",
      "c (stacked)\n",
      " [[0. 0. 1. 1.]\n",
      " [0. 0. 1. 1.]\n",
      " [0. 0. 1. 1.]]\n"
     ]
    }
   ],
   "source": [
    "import numpy as np\n",
    "\n",
    "# Synthetic data\n",
    "a = np.array(np.zeros(6)).reshape(3,2)\n",
    "print('a\\n',a)\n",
    "\n",
    "b = np.array(np.ones(6)).reshape(3,2)\n",
    "print('\\nb\\n', b)\n",
    "\n",
    "c = np.hstack([a,b])\n",
    "print('\\nc (stacked)\\n', c)"
   ]
  },
  {
   "cell_type": "code",
   "execution_count": 122,
   "metadata": {},
   "outputs": [
    {
     "name": "stdout",
     "output_type": "stream",
     "text": [
      "[[  5.  16.   3.   5.   1.   0.   1.   2.   1.  18.   0.   0.   1.   0.\n",
      "   17.   2.   4.  10.   4.  12.   2.   0.   0.  14.   0.   1.   1.   0.\n",
      "    0.   1.   0. 115.   0.   0.]\n",
      " [ 10.  11.   5.   3.   2.   1.   0.   3.   0.  15.   2.   0.   0.   0.\n",
      "   27.   1.   1.   8.   5.  23.   3.   2.   0.  11.   0.   0.   0.   1.\n",
      "    1.   0.   0. 126.   0.   0.]\n",
      " [  5.   7.   5.   8.   0.   0.   0.   2.   0.  10.   0.   1.   0.   1.\n",
      "   16.   1.   7.  13.   2.  14.   2.   0.   1.  22.   1.   0.   0.   0.\n",
      "    0.   0.   1. 114.   0.   0.]]\n"
     ]
    }
   ],
   "source": [
    "# Add synthetic data columns to right side of feature array\n",
    "X_stacked = np.hstack([X,a])\n",
    "print(X_stacked)"
   ]
  },
  {
   "cell_type": "markdown",
   "metadata": {},
   "source": [
    "Note that you need to keep track of your feature names when you do this. The vectorizer object will still give you the names of the columns that it produced, but you might now have multiple vectorizers, each of which is responsible for part of your stacked feature matrix. This isn't a problem, but be aware that you'll need to deal with it."
   ]
  },
  {
   "cell_type": "code",
   "execution_count": null,
   "metadata": {},
   "outputs": [],
   "source": []
  }
 ],
 "metadata": {
  "kernelspec": {
   "display_name": "Python 3",
   "language": "python",
   "name": "python3"
  },
  "language_info": {
   "codemirror_mode": {
    "name": "ipython",
    "version": 3
   },
   "file_extension": ".py",
   "mimetype": "text/x-python",
   "name": "python",
   "nbconvert_exporter": "python",
   "pygments_lexer": "ipython3",
   "version": "3.8.3"
  }
 },
 "nbformat": 4,
 "nbformat_minor": 4
}
