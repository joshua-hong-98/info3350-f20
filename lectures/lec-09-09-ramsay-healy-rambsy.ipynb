{
 "cells": [
  {
   "cell_type": "markdown",
   "metadata": {},
   "source": [
    "**9 September 2020**\n",
    "\n",
    "# Discussion: Ramsay, Healy, and Rambsy\n",
    "\n",
    "## Administrivia\n",
    "\n",
    "* Friday sections going online-only\n",
    "  * Why? Safety and effectiveness.\n",
    "  * 10:20 or 11:15 only.\n",
    "  * Free section choice. Poll.\n",
    "  * Ideas for more personal contact.\n",
    "* If you're not enrolled, you can't submit discussion posts on Canvas nor problem sets on CMS.\n",
    "  * You can email them to me and/or to Maria.\n",
    "  * This problem will go away soon, when add period ends on 9/16.\n",
    "* [CURB](http://curb.cornell.edu/) undergrad research board mentorship program.\n",
    "  * Deadlines: 9/14 (mentors) and 9/19 (mentees),\n",
    "* Other questions or issues?\n",
    "\n",
    "## Intro\n",
    "\n",
    "Ramsay and Healy's articles are disciplinary *reflections*. They make an argument about how an academic discipline should approach its task.\n",
    "\n",
    "Rambsy's article/exhibit is a disciplinary *product*. It produces new knowlede within a discipline. But it also has a disciplinary-methodological argument.\n",
    "\n",
    "To what extent do you see all three articles as participating in a shared dialogue?\n",
    "\n",
    "## Discussion -> breakout rooms for 7 minutes\n",
    "\n",
    "### Mechanics\n",
    "\n",
    "* Three groups for each reading. \n",
    "* Address the questions below, and note additional questions or issues that come up in your group discussion.\n",
    "  * Quoting specific passages from the text is very helpful for everyone!\n",
    "* Select one or two group members to summarize your answers/questions.\n",
    "* When we reconvene, we'll hear \"reports\" and discuss each reading as a large group for about 10-12 minutes.\n",
    "  * Keep your reports brief and snappy!\n",
    "\n",
    "### Steve Ramsay, \"Toward an algorithmic criticism\" (rooms 1-3)\n",
    "\n",
    "* How does Ramsay describe the purpose of \"mainstream\" literary criticism and how does he distinguish criticism from science?\n",
    "  * Does this match your experience of literature and science classes you've taken?\n",
    "* What role does Ramsay argue that computation should play in the critical process?\n",
    "\n",
    "### Kieran Healy, \"Fuck nuance\" (rooms 4-6)\n",
    "\n",
    "* What does Healy mean by \"Actually Existing Nuance\" and why does he oppose it?\n",
    "* Have you encountered any of Healy's \"nuance traps\" (the fine-grain, the conceptual framework, and the connoisseur) in classes or in research work?\n",
    "  * Why are these traps a problem?\n",
    "  \n",
    "### Kenton Rambsy, *#TheJayZMixtape* (rooms 7-9)\n",
    "\n",
    "* What do you see as Rambsy's argument about how literary studies should work or what the discipline is for?\n",
    "  * What, if any, changes does he advocate?\n",
    "* Rambsy goes far with some relatively simple methods. \n",
    "  * Any conclusions can we draw from that fact for our own work?\n",
    "  * Are there other things one might like to do with his data?"
   ]
  },
  {
   "cell_type": "code",
   "execution_count": null,
   "metadata": {},
   "outputs": [],
   "source": []
  }
 ],
 "metadata": {
  "kernelspec": {
   "display_name": "Python 3",
   "language": "python",
   "name": "python3"
  },
  "language_info": {
   "codemirror_mode": {
    "name": "ipython",
    "version": 3
   },
   "file_extension": ".py",
   "mimetype": "text/x-python",
   "name": "python",
   "nbconvert_exporter": "python",
   "pygments_lexer": "ipython3",
   "version": "3.8.3"
  }
 },
 "nbformat": 4,
 "nbformat_minor": 4
}
