{
 "cells": [
  {
   "cell_type": "markdown",
   "metadata": {},
   "source": [
    "**2 December 2020**\n",
    "\n",
    "# Discussion: Nelson\n",
    "\n",
    "## Admin\n",
    "\n",
    "* Need to select readings and lecture topic for next week\n",
    "    * Post your ideas on Campuswire (threads already exist there) by this evening\n",
    "* Exam and final project description and guidelines coming this week\n",
    "    * Exam due date: Saturday, 12/19, at 5:00pm EST via CMS\n",
    "    * Exam released one week before due date (12/12, 5:00pm)\n",
    "    * Can work on the exam as much or as little as you want during the week you have it"
   ]
  },
  {
   "cell_type": "markdown",
   "metadata": {},
   "source": [
    "## Laura K. Nelson, \"Machine Learning and Intersectionality\"\n",
    "\n",
    "1. How does Nelson define *intersectionality*? What is it and why is it important in historical and cultural studies? How does Nelson believe \"traditional\" methods in the social sciences fail to capture intersectional experiences? (For the foundational formulation of intersectionality, see [Crenshaw, 1989](https://chicagounbound.uchicago.edu/cgi/viewcontent.cgi?article=1052&context=uclf) [PDF].) If you're feeling ambitious, what's the difference between *induction* and *deduction* as Nelson uses those terms?\n",
    "\n",
    "1. Describe Nelson's corpus, methods, and research objectives? Can you identify notable strengths or weaknesses in any of these?\n",
    "\n",
    "1. Explain figure 2. What are the axes? What are the colored data points? What are the marked (star and cross) data points? What does the figure show? How would you compare it to figure 4?"
   ]
  },
  {
   "cell_type": "code",
   "execution_count": null,
   "metadata": {},
   "outputs": [],
   "source": []
  }
 ],
 "metadata": {
  "kernelspec": {
   "display_name": "Python 3",
   "language": "python",
   "name": "python3"
  },
  "language_info": {
   "codemirror_mode": {
    "name": "ipython",
    "version": 3
   },
   "file_extension": ".py",
   "mimetype": "text/x-python",
   "name": "python",
   "nbconvert_exporter": "python",
   "pygments_lexer": "ipython3",
   "version": "3.8.3"
  }
 },
 "nbformat": 4,
 "nbformat_minor": 4
}
